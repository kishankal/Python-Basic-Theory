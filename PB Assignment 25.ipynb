{
 "cells": [
  {
   "cell_type": "markdown",
   "id": "26d21916",
   "metadata": {},
   "source": [
    "## 1) . What is the difference between enclosing a list comprehension in square brackets and parentheses?"
   ]
  },
  {
   "cell_type": "code",
   "execution_count": 2,
   "id": "29e0aaf6",
   "metadata": {},
   "outputs": [
    {
     "data": {
      "text/plain": [
       "[0, 1, 2, 3, 4, 5, 6, 7, 8, 9]"
      ]
     },
     "execution_count": 2,
     "metadata": {},
     "output_type": "execute_result"
    }
   ],
   "source": [
    "l = [i for i in range(10)]\n",
    "l\n",
    "#List Comprehension with square brackets produces list.\n",
    "#List Comprehension with parentheses creates generators"
   ]
  },
  {
   "cell_type": "code",
   "execution_count": 4,
   "id": "7ceb90c0",
   "metadata": {},
   "outputs": [
    {
     "data": {
      "text/plain": [
       "<generator object <genexpr> at 0x0000022E79D89580>"
      ]
     },
     "execution_count": 4,
     "metadata": {},
     "output_type": "execute_result"
    }
   ],
   "source": [
    "l = (i for i in range(10))\n",
    "l"
   ]
  },
  {
   "cell_type": "markdown",
   "id": "4e50d83a",
   "metadata": {},
   "source": [
    "## 2) What is the relationship between generators and iterators?\n",
    "## Answer :"
   ]
  },
  {
   "cell_type": "raw",
   "id": "9fd00c75",
   "metadata": {},
   "source": [
    "An iterator is an object which contains a countable number of values and it is used to iterate over iterable objects like list, tuples, sets, etc. Iterators are implemented using a class. It follows lazy evaluation where the evaluation of the expression will be on hold and stored in the memory until the item is called specifically which helps us to avoid repeated evaluation. As lazy evaluation is implemented, it requires only 1 memory location to process the value and when we are using a large dataset then, wastage of RAM space will be reduced the need to load the entire dataset at the same time will not be there.For an iterator: iter() keyword is used to create an iterator containing an iterable object.next() keyword is used to call the next element in the iterable object.\n",
    "\n",
    "Similarly Generators are an another way of creating iterators in a simple way where it uses the keyword yield statement instead of return statement in a defined function.Generators are implemented using a function. Just as iterators, generators also follow lazy evaluation. Here, the yield function returns the data without affecting or exiting the function. It will return a sequence of data in an iterable format where we need to iterate over the sequence to use the data as they won’t store the entire sequence in the memory."
   ]
  },
  {
   "cell_type": "code",
   "execution_count": 6,
   "id": "e3e9289c",
   "metadata": {},
   "outputs": [
    {
     "name": "stdout",
     "output_type": "stream",
     "text": [
      "<class 'list_iterator'>\n",
      "iN\n",
      "out\n",
      "down\n",
      "up\n",
      "<list_iterator object at 0x0000022E79D610A0>\n",
      "1\n",
      "4\n",
      "9\n",
      "16\n"
     ]
    }
   ],
   "source": [
    "# Example of iterartor\n",
    "iter_str = iter(['iN','out','down','up'])\n",
    "print(type(iter_str))\n",
    "print(next(iter_str))\n",
    "print(next(iter_str))\n",
    "print(next(iter_str))\n",
    "print(next(iter_str))\n",
    "print(iter_str) # After the iterable object is completed, to use them again we have reassign them to the same object.\n",
    "\n",
    "# Example of Generator\n",
    "def mul(num):\n",
    "    for i in num:\n",
    "        yield i*i\n",
    "    \n",
    "\n",
    "x = mul([1,2,3,4])\n",
    "print(next(x))\n",
    "print(next(x))\n",
    "print(next(x))\n",
    "print(next(x))"
   ]
  },
  {
   "cell_type": "markdown",
   "id": "00699b8b",
   "metadata": {},
   "source": [
    "## 3) What are the signs that a function is a generator function?\n",
    "## Answer :"
   ]
  },
  {
   "cell_type": "markdown",
   "id": "e35d18d1",
   "metadata": {},
   "source": [
    "    → A generator function uses a yield statement instead of a return statement\n",
    "    → A generator function will always return a iterable object called generator.\n",
    "    → where as a normal function can return a string/list/tuple/dict/NoneType ... etc\n"
   ]
  },
  {
   "cell_type": "markdown",
   "id": "2cc7abf5",
   "metadata": {},
   "source": [
    "## 4. What is the purpose of yield statement\n",
    "## Answer :"
   ]
  },
  {
   "cell_type": "markdown",
   "id": "6e7d4da1",
   "metadata": {},
   "source": [
    "    → A yield statement looks much like a return statement,accept that instead of stopping execution of the function and         returning\n",
    "    →  yield instead provides a value to the code looping over the generator and pauses execution of the generator function"
   ]
  },
  {
   "cell_type": "markdown",
   "id": "48cd2404",
   "metadata": {},
   "source": [
    "## 5) What is the relationship between map calls and list comprehensions? Make a comparison and contrast between the two.\n",
    "## Answer :"
   ]
  },
  {
   "cell_type": "markdown",
   "id": "4be1a769",
   "metadata": {},
   "source": [
    "    Map function: Suppose we have a function and we want to compute this function for different values in a single line of     code . This is where map() function plays its role. map() function returns a map object(which is an iterator) of the       results after applying the given function to each item of a given iterable (list, tuple etc.)\n",
    "\n",
    "    If we already have a function defined, it is often good to use map For example, map(sum, myLists) is more neat than         [sum(x) for x in myLists]. You gain the elegance of not having to make up a dummy variable (e.g. sum(x) for x... or         sum() for ... or sum(readableName) for readableName...) which you have to type twice, just to iterate.\n",
    "\n",
    "    List Comprehension: List Comprehension is a substitute for the lambda function, map(), filter() and reduce()\n",
    "\n",
    "    Comparision :\n",
    "    1. List comprehension is more concise and easier to read as compared to map\n",
    "    2. List comprehension allows filtering. In map, we have no such facility For example, to print all even numbers in            range of 100, we can write [n for n in range(100) if n%2 == 0]. There is no alternate for it in map\n",
    "    3. List comprehension are used when a list of results is required, where as map only returns a map object and does not        return any list.\n",
    "    4. List comprehension is faster than map when we need to evaluate expressions that are too long or complicated to              express\n",
    "    Map is faster in case of calling an already defined function (as no lambda is required)"
   ]
  },
  {
   "cell_type": "code",
   "execution_count": null,
   "id": "580f81b3",
   "metadata": {},
   "outputs": [],
   "source": []
  }
 ],
 "metadata": {
  "kernelspec": {
   "display_name": "Python 3 (ipykernel)",
   "language": "python",
   "name": "python3"
  },
  "language_info": {
   "codemirror_mode": {
    "name": "ipython",
    "version": 3
   },
   "file_extension": ".py",
   "mimetype": "text/x-python",
   "name": "python",
   "nbconvert_exporter": "python",
   "pygments_lexer": "ipython3",
   "version": "3.9.7"
  }
 },
 "nbformat": 4,
 "nbformat_minor": 5
}
