{
 "cells": [
  {
   "cell_type": "markdown",
   "id": "5792ba1f",
   "metadata": {},
   "source": [
    "## 1. Set the variable test1 to the string 'This is a test of the emergency text system,' and save test1 to a file named test.txt.\n",
    "## Answer :"
   ]
  },
  {
   "cell_type": "code",
   "execution_count": 1,
   "id": "63c29f70",
   "metadata": {},
   "outputs": [
    {
     "data": {
      "text/plain": [
       "43"
      ]
     },
     "execution_count": 1,
     "metadata": {},
     "output_type": "execute_result"
    }
   ],
   "source": [
    "test1 = 'This is a test of the emergency text system'\n",
    "f = open('test.txt','w')\n",
    "f.write(test1)"
   ]
  },
  {
   "cell_type": "markdown",
   "id": "a9a6e9e8",
   "metadata": {},
   "source": [
    "## 2. Read the contents of the file test.txt into the variable test2. Is there a difference between test 1 and test 2?\n",
    "## Answer :"
   ]
  },
  {
   "cell_type": "code",
   "execution_count": 6,
   "id": "0880bc38",
   "metadata": {},
   "outputs": [
    {
     "data": {
      "text/plain": [
       "'This is a test of the emergency text system'"
      ]
     },
     "execution_count": 6,
     "metadata": {},
     "output_type": "execute_result"
    }
   ],
   "source": [
    "f.close()\n",
    "fi = open('test.txt','r')\n",
    "test2 = fi.readline()\n",
    "test2"
   ]
  },
  {
   "cell_type": "code",
   "execution_count": 10,
   "id": "2e5e5f87",
   "metadata": {},
   "outputs": [],
   "source": [
    "## yes, both strings are same\n",
    "fi.close()"
   ]
  },
  {
   "cell_type": "markdown",
   "id": "c13d55c4",
   "metadata": {},
   "source": [
    "## 3. Create a CSV file called books.csv by using these lines:\n",
    "    title,author,year\n",
    "    The Weirdstone of Brisingamen,Alan Garner,1960\n",
    "    Perdido Street Station,China Miéville,2000\n",
    "    Thud!,Terry Pratchett,2005\n",
    "    The Spellman Files,Lisa Lutz,2007\n",
    "    Small Gods,Terry Pratchett,1992\n"
   ]
  },
  {
   "cell_type": "code",
   "execution_count": 25,
   "id": "f8cc420c",
   "metadata": {},
   "outputs": [],
   "source": [
    "import csv\n",
    "var  =[['title','author','year'],\n",
    "       ['The Weirdstone of Brisingamen','Alan Garner','1960'],\n",
    "       ['Perdido Street Station','China Miéville','2000'],\n",
    "       ['Thud!','Terry Pratchett','2005'],\n",
    "       ['The Spellman Files','Lisa Lutz','2007'],\n",
    "       ['Small Gods','Terry Pratchett','1992']] \n",
    "\n",
    "with open('books.csv','w',newline='') as fl:\n",
    "    writer = csv.writer(fl)\n",
    "    writer.writerows(var)\n",
    "    "
   ]
  },
  {
   "cell_type": "markdown",
   "id": "26a733eb",
   "metadata": {},
   "source": [
    "## 4. Use the sqlite3 module to create a SQLite database called books.db, and a table called books with these fields: title (text), author (text), and year (integer).\n",
    "## Answer :\n"
   ]
  },
  {
   "cell_type": "code",
   "execution_count": null,
   "id": "a53cabef",
   "metadata": {},
   "outputs": [],
   "source": [
    "import sqlite3\n",
    "db = sqlite3.connect('books.db')\n",
    "c = db.cursor()\n",
    "\n",
    "c.execute('create table books(title text,author text, year int)')\n",
    "db.commit()\n"
   ]
  },
  {
   "cell_type": "code",
   "execution_count": 29,
   "id": "8a8fdf3c",
   "metadata": {},
   "outputs": [],
   "source": [
    "db.close()"
   ]
  },
  {
   "cell_type": "markdown",
   "id": "9b3f27b4",
   "metadata": {},
   "source": [
    "## 5. Read books.csv and insert its data into the book table.\n",
    "## Answer :"
   ]
  },
  {
   "cell_type": "code",
   "execution_count": 76,
   "id": "5dd247c9",
   "metadata": {},
   "outputs": [],
   "source": [
    "import sqlite3\n",
    "db = sqlite3.connect('books.db')\n",
    "c = db.cursor()\n",
    "with open('books.csv','r') as f:\n",
    "    record = 0\n",
    "    for i in f:\n",
    "        if record == 0:\n",
    "            continue\n",
    "        c.execute('insert into books values(?,?,?)',i.split(','))\n",
    "        db.commit()\n",
    "        record += 1 "
   ]
  },
  {
   "cell_type": "code",
   "execution_count": 79,
   "id": "f45eacd7",
   "metadata": {},
   "outputs": [
    {
     "data": {
      "text/plain": [
       "[(1, 'title', 'author', 'year\\n'),\n",
       " (2, 'The Weirdstone of Brisingamen', 'Alan Garner', 1960),\n",
       " (3, 'Perdido Street Station', 'China Miéville', 2000),\n",
       " (4, 'Thud!', 'Terry Pratchett', 2005),\n",
       " (5, 'The Spellman Files', 'Lisa Lutz', 2007),\n",
       " (6, 'Small Gods', 'Terry Pratchett', 1992)]"
      ]
     },
     "execution_count": 79,
     "metadata": {},
     "output_type": "execute_result"
    }
   ],
   "source": [
    "\n",
    "c.execute('select rowid,* from books')\n",
    "c.fetchall()"
   ]
  },
  {
   "cell_type": "markdown",
   "id": "9ddf9ed0",
   "metadata": {},
   "source": [
    "## 6. Select and print the title column from the book table in alphabetical order.\n",
    "## Answer :"
   ]
  },
  {
   "cell_type": "code",
   "execution_count": 49,
   "id": "05ee4b02",
   "metadata": {},
   "outputs": [
    {
     "data": {
      "text/plain": [
       "[('Perdido Street Station',),\n",
       " ('Small Gods',),\n",
       " ('The Spellman Files',),\n",
       " ('The Weirdstone of Brisingamen',),\n",
       " ('Thud!',),\n",
       " ('title',)]"
      ]
     },
     "execution_count": 49,
     "metadata": {},
     "output_type": "execute_result"
    }
   ],
   "source": [
    "db = sqlite3.connect('books.db')\n",
    "c = db.cursor()\n",
    "c.execute('select title from books order by title asc')\n",
    "c.fetchall()"
   ]
  },
  {
   "cell_type": "markdown",
   "id": "afe18606",
   "metadata": {},
   "source": [
    "## 7. From the book table, select and print all columns in the order of publication.\n",
    "## Answer :"
   ]
  },
  {
   "cell_type": "code",
   "execution_count": 68,
   "id": "bb0da39e",
   "metadata": {},
   "outputs": [
    {
     "data": {
      "text/plain": [
       "[(2, 'The Weirdstone of Brisingamen', 'Alan Garner', 1960),\n",
       " (6, 'Small Gods', 'Terry Pratchett', 1992),\n",
       " (3, 'Perdido Street Station', 'China Miéville', 2000),\n",
       " (4, 'Thud!', 'Terry Pratchett', 2005),\n",
       " (5, 'The Spellman Files', 'Lisa Lutz', 2007)]"
      ]
     },
     "execution_count": 68,
     "metadata": {},
     "output_type": "execute_result"
    }
   ],
   "source": [
    "c.execute('select rowid, * from books order by year asc')\n",
    "c.fetchall()"
   ]
  },
  {
   "cell_type": "markdown",
   "id": "c38ae285",
   "metadata": {},
   "source": [
    "## 8. Use the sqlalchemy module to connect to the sqlite3 database books.db that you just made in exercise 6.\n",
    "## Answer :"
   ]
  },
  {
   "cell_type": "code",
   "execution_count": 72,
   "id": "265b19e8",
   "metadata": {},
   "outputs": [
    {
     "name": "stdout",
     "output_type": "stream",
     "text": [
      "('title', 'author', 'year\\n')\n",
      "('The Weirdstone of Brisingamen', 'Alan Garner', 1960)\n",
      "('Perdido Street Station', 'China Miéville', 2000)\n",
      "('Thud!', 'Terry Pratchett', 2005)\n",
      "('The Spellman Files', 'Lisa Lutz', 2007)\n",
      "('Small Gods', 'Terry Pratchett', 1992)\n"
     ]
    }
   ],
   "source": [
    "import sqlalchemy\n",
    "a = sqlalchemy.create_engine(\"sqlite:///books.db\")\n",
    "rows = a.execute('select * from books')\n",
    "for i in rows:\n",
    "    print(i)"
   ]
  },
  {
   "cell_type": "markdown",
   "id": "e85bf093",
   "metadata": {},
   "source": [
    "## 9. Install the Redis server and the Python redis library (pip install redis) on your computer. Create a Redis hash called test with the fields count (1) and name ('Fester Bestertester'). Print all the fields for test.\n",
    "## Answer :"
   ]
  },
  {
   "cell_type": "code",
   "execution_count": null,
   "id": "cdc3ea30",
   "metadata": {},
   "outputs": [],
   "source": [
    "!pip install redis"
   ]
  },
  {
   "cell_type": "code",
   "execution_count": null,
   "id": "4879be0c",
   "metadata": {},
   "outputs": [],
   "source": [
    "import redis\n",
    "conn = redis.Redis()\n",
    "conn.delete('test')\n",
    "conn.hmset('test', {'count': 1, 'name': 'Fester Bestertester'})\n",
    "conn.hgetall('test')"
   ]
  },
  {
   "cell_type": "markdown",
   "id": "b5c48a70",
   "metadata": {},
   "source": [
    "## Q. Increment the count field of test and print it.\n",
    "## Answer :"
   ]
  },
  {
   "cell_type": "code",
   "execution_count": null,
   "id": "99058600",
   "metadata": {},
   "outputs": [],
   "source": [
    "conn.hincrby('test','count', 3)"
   ]
  },
  {
   "cell_type": "code",
   "execution_count": null,
   "id": "6210afaf",
   "metadata": {},
   "outputs": [],
   "source": []
  }
 ],
 "metadata": {
  "kernelspec": {
   "display_name": "Python 3 (ipykernel)",
   "language": "python",
   "name": "python3"
  },
  "language_info": {
   "codemirror_mode": {
    "name": "ipython",
    "version": 3
   },
   "file_extension": ".py",
   "mimetype": "text/x-python",
   "name": "python",
   "nbconvert_exporter": "python",
   "pygments_lexer": "ipython3",
   "version": "3.9.7"
  }
 },
 "nbformat": 4,
 "nbformat_minor": 5
}
