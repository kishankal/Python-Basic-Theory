{
 "cells": [
  {
   "cell_type": "markdown",
   "id": "b16543b0",
   "metadata": {},
   "source": [
    "## 1. What exactly is []?\n",
    "\n",
    "## Answer : \n",
    "    it's empty list "
   ]
  },
  {
   "cell_type": "markdown",
   "id": "db3796e8",
   "metadata": {},
   "source": [
    "## 2. In a list of values stored in a variable called spam, how would you assign the value 'hello' as the third value? (Assume [2, 4, 6, 8, 10] are in spam.)"
   ]
  },
  {
   "cell_type": "code",
   "execution_count": 5,
   "id": "040efef8",
   "metadata": {},
   "outputs": [
    {
     "data": {
      "text/plain": [
       "[2, 4, 'hello', 6, 8, 10]"
      ]
     },
     "execution_count": 5,
     "metadata": {},
     "output_type": "execute_result"
    }
   ],
   "source": [
    "spam = [2,4,6,8,10]\n",
    "spam.insert(2,'hello')\n",
    "spam"
   ]
  },
  {
   "cell_type": "markdown",
   "id": "f652a2f5",
   "metadata": {},
   "source": [
    "# Let's pretend the spam includes the list ['a', 'b', 'c', 'd'] for the next three queries."
   ]
  },
  {
   "cell_type": "markdown",
   "id": "e103ddda",
   "metadata": {},
   "source": [
    "## 3. What is the value of spam[int(int('3' * 2) / 11)]?"
   ]
  },
  {
   "cell_type": "code",
   "execution_count": 7,
   "id": "35571d12",
   "metadata": {},
   "outputs": [
    {
     "data": {
      "text/plain": [
       "'d'"
      ]
     },
     "execution_count": 7,
     "metadata": {},
     "output_type": "execute_result"
    }
   ],
   "source": [
    "spam = ['a','b','c','d']\n",
    "spam[int(int('3'*2)/11)]"
   ]
  },
  {
   "cell_type": "markdown",
   "id": "9c461c24",
   "metadata": {},
   "source": [
    "## 4. What is the value of spam[-1]?"
   ]
  },
  {
   "cell_type": "code",
   "execution_count": 11,
   "id": "a88f89b0",
   "metadata": {},
   "outputs": [
    {
     "data": {
      "text/plain": [
       "'d'"
      ]
     },
     "execution_count": 11,
     "metadata": {},
     "output_type": "execute_result"
    }
   ],
   "source": [
    "spam[-1]"
   ]
  },
  {
   "cell_type": "markdown",
   "id": "ac8855cd",
   "metadata": {},
   "source": [
    "## 5. What is the value of spam[:2]?"
   ]
  },
  {
   "cell_type": "code",
   "execution_count": 12,
   "id": "75de5e93",
   "metadata": {},
   "outputs": [
    {
     "data": {
      "text/plain": [
       "['a', 'b']"
      ]
     },
     "execution_count": 12,
     "metadata": {},
     "output_type": "execute_result"
    }
   ],
   "source": [
    "spam[:2]"
   ]
  },
  {
   "cell_type": "markdown",
   "id": "7d40bdf1",
   "metadata": {},
   "source": [
    "# Let's pretend bacon has the list [3.14, 'cat', 11, 'cat', True] for the next three questions."
   ]
  },
  {
   "cell_type": "code",
   "execution_count": 15,
   "id": "1b559e9c",
   "metadata": {},
   "outputs": [],
   "source": [
    "bacon = [3.14,'cat',11,'cat',True]"
   ]
  },
  {
   "cell_type": "markdown",
   "id": "639c6d47",
   "metadata": {},
   "source": [
    "## Q6 what is the value of bacon.index('cat')?"
   ]
  },
  {
   "cell_type": "code",
   "execution_count": 16,
   "id": "0e353f71",
   "metadata": {},
   "outputs": [
    {
     "data": {
      "text/plain": [
       "1"
      ]
     },
     "execution_count": 16,
     "metadata": {},
     "output_type": "execute_result"
    }
   ],
   "source": [
    "bacon.index('cat')"
   ]
  },
  {
   "cell_type": "markdown",
   "id": "cd8c4cd9",
   "metadata": {},
   "source": [
    "## 7. How does bacon.append(99) change the look of the list value in bacon?"
   ]
  },
  {
   "cell_type": "code",
   "execution_count": 27,
   "id": "51fcce75",
   "metadata": {},
   "outputs": [
    {
     "data": {
      "text/plain": [
       "[3.14, 'cat', 11, 'cat', True, 99]"
      ]
     },
     "execution_count": 27,
     "metadata": {},
     "output_type": "execute_result"
    }
   ],
   "source": [
    "bacon.append(99)\n",
    "bacon\n"
   ]
  },
  {
   "cell_type": "markdown",
   "id": "b69e55f9",
   "metadata": {},
   "source": [
    "## 8. How does bacon.remove('cat') change the look of the list in bacon?"
   ]
  },
  {
   "cell_type": "code",
   "execution_count": 28,
   "id": "d9a4a12a",
   "metadata": {},
   "outputs": [],
   "source": [
    "bacon.remove('cat')"
   ]
  },
  {
   "cell_type": "code",
   "execution_count": 29,
   "id": "eea40314",
   "metadata": {},
   "outputs": [
    {
     "data": {
      "text/plain": [
       "[3.14, 11, 'cat', True, 99]"
      ]
     },
     "execution_count": 29,
     "metadata": {},
     "output_type": "execute_result"
    }
   ],
   "source": [
    "bacon"
   ]
  },
  {
   "cell_type": "markdown",
   "id": "049ad067",
   "metadata": {},
   "source": [
    "## 9. What are the list concatenation and list replication operators?"
   ]
  },
  {
   "cell_type": "markdown",
   "id": "1bb4d45e",
   "metadata": {},
   "source": [
    "### list concatenation :\n",
    "    creating a new list by adding two lists together with the help of arithmetic '+' opeartor.\n",
    "    for example:\n",
    "        print([1,2] + [3,4]) \n",
    "        output = [1,2,3,4]\n",
    "### list replication :\n",
    "    craeting a new list by repeating multipe copies of the same list with the help of '*' opeartor.\n",
    "    print([1,2,3]*2)\n",
    "    output = [1,2,3,1,2,3]"
   ]
  },
  {
   "cell_type": "markdown",
   "id": "427792fb",
   "metadata": {},
   "source": [
    "## 10. What is difference between the list methods append() and insert()?"
   ]
  },
  {
   "cell_type": "code",
   "execution_count": 31,
   "id": "57132db4",
   "metadata": {},
   "outputs": [
    {
     "data": {
      "text/plain": [
       "[1, 2, 3, 4, 'kishan']"
      ]
     },
     "execution_count": 31,
     "metadata": {},
     "output_type": "execute_result"
    }
   ],
   "source": [
    "# append()\n",
    "l  = [1,2,3,4]     # original list\n",
    "l.append('kishan') # append() is uesd to add new element in list at last place means index + 1 position\n",
    "l\n"
   ]
  },
  {
   "cell_type": "code",
   "execution_count": 33,
   "id": "61843132",
   "metadata": {},
   "outputs": [
    {
     "data": {
      "text/plain": [
       "[1, 2, 'kio', 3, 4, 'kishan']"
      ]
     },
     "execution_count": 33,
     "metadata": {},
     "output_type": "execute_result"
    }
   ],
   "source": [
    "# insert()\n",
    "l.insert(2,'kio') # insert function is used to insert a elemnet at a particular index.\n",
    "l"
   ]
  },
  {
   "cell_type": "markdown",
   "id": "cc43d6c2",
   "metadata": {},
   "source": [
    "## 11. What are the two methods for removing items from a list?"
   ]
  },
  {
   "cell_type": "code",
   "execution_count": 35,
   "id": "5bf3ae06",
   "metadata": {},
   "outputs": [
    {
     "data": {
      "text/plain": [
       "[1, 2, 3, 4, 5]"
      ]
     },
     "execution_count": 35,
     "metadata": {},
     "output_type": "execute_result"
    }
   ],
   "source": [
    "## 1. pop()\n",
    "a = [1,2,3,4,5,6]\n",
    "a.pop()\n",
    "a"
   ]
  },
  {
   "cell_type": "code",
   "execution_count": 36,
   "id": "4ca8046d",
   "metadata": {},
   "outputs": [
    {
     "data": {
      "text/plain": [
       "[1, 2, 4, 5]"
      ]
     },
     "execution_count": 36,
     "metadata": {},
     "output_type": "execute_result"
    }
   ],
   "source": [
    "## 2. remove()\n",
    "a.remove(3)\n",
    "a"
   ]
  },
  {
   "cell_type": "markdown",
   "id": "4950dddc",
   "metadata": {},
   "source": [
    "## 12. Describe how list values and string values are identical\n",
    "## Answer : \n",
    "    1. len() function of string can work same with list.it counts no: of element in a list.\n",
    "    2. indexing and slicing-each element stores on a specific index.silicing can be done on list to extract a sub list.\n",
    "    3. Membership Operator - in and not in operator also works with list just as string.\n",
    "    4. Concatenation and replication is same in both string and list\n",
    "    "
   ]
  },
  {
   "cell_type": "markdown",
   "id": "3f70614f",
   "metadata": {},
   "source": [
    "## 13. what is the differrence between tuples and lists?\n",
    "## Answer :\n",
    "#### 1. Creation\n",
    "    → list is a comma separated values in square brakets and square brakets is mandatory.\n",
    "      Data = ['kishan',1,2,3,'kio']\n",
    "    → Tuple is a comma seprated values in parenthesis and parenthesis is optinal.\n",
    "      Data1 = ('jay',23,30000)\n",
    "#### 2. Mutability\n",
    "    → list is Mutable means changable \n",
    "    → tuple is immutable means not changable.\n",
    "    eg :\n",
    "        Data[1] = 256 # no error\n",
    "        Data1[1] = 256 # TypeError : tuple object doesn't support item assignment\n",
    "#### 3. Memory Consumption :\n",
    "    → Tuple object takes less memory than list object for same data.\n",
    "    → list is slow execution than tuple.\n",
    "    → list is efficient in memory utilization than tuple.\n",
    "    import sys\n",
    "    Data1 = ('kishan',1,2,3,'kio')\n",
    "    Data = ['kishan',1,2,3,'kio']\n",
    "    print(sys.getsizeof(Data))  # output = 120\n",
    "    print(sys.getsizeof(Data1)) # output = 80\n",
    "\n",
    "    "
   ]
  },
  {
   "cell_type": "markdown",
   "id": "00ec8d40",
   "metadata": {},
   "source": [
    "## 14. How do you type a tuple value that only contains the integer 42?"
   ]
  },
  {
   "cell_type": "code",
   "execution_count": 17,
   "id": "abe7a41f",
   "metadata": {},
   "outputs": [
    {
     "data": {
      "text/plain": [
       "tuple"
      ]
     },
     "execution_count": 17,
     "metadata": {},
     "output_type": "execute_result"
    }
   ],
   "source": [
    "a = 42,\n",
    "type(a)"
   ]
  },
  {
   "cell_type": "markdown",
   "id": "76077ac4",
   "metadata": {},
   "source": [
    "## 15. How do you get a list value's tuple form? How do you get a tuple value's list form?"
   ]
  },
  {
   "cell_type": "markdown",
   "id": "35d66e44",
   "metadata": {},
   "source": [
    "## list of tuples"
   ]
  },
  {
   "cell_type": "code",
   "execution_count": 27,
   "id": "c5d80248",
   "metadata": {},
   "outputs": [
    {
     "data": {
      "text/plain": [
       "[('kishan',), ('bhavik',), ('kio',)]"
      ]
     },
     "execution_count": 27,
     "metadata": {},
     "output_type": "execute_result"
    }
   ],
   "source": [
    "\n",
    "### method 1: use of list() and tuple()\n",
    "data = [('kishan',),('bhavik',),('kio',)]\n",
    "data\n",
    "    "
   ]
  },
  {
   "cell_type": "code",
   "execution_count": 28,
   "id": "ad0f48fc",
   "metadata": {},
   "outputs": [
    {
     "data": {
      "text/plain": [
       "[(1, 'kishan'), (2, 'kio'), (3, 'bhavik')]"
      ]
     },
     "execution_count": 28,
     "metadata": {},
     "output_type": "execute_result"
    }
   ],
   "source": [
    "### method 2 : use of zip()\n",
    "\n",
    "a = [1,2,3]\n",
    "b = ['kishan','kio','bhavik']\n",
    "t1 = list(zip(a,b))\n",
    "t1"
   ]
  },
  {
   "cell_type": "code",
   "execution_count": 29,
   "id": "c6a06c6a",
   "metadata": {},
   "outputs": [
    {
     "data": {
      "text/plain": [
       "[('kishan',), ('kio',), ('spam',)]"
      ]
     },
     "execution_count": 29,
     "metadata": {},
     "output_type": "execute_result"
    }
   ],
   "source": [
    "### method 4 : map()\n",
    "c = [['kishan'],['kio'],['spam']]\n",
    "t2 = list(map(tuple,c))\n",
    "t2"
   ]
  },
  {
   "cell_type": "code",
   "execution_count": 30,
   "id": "7a5460f2",
   "metadata": {},
   "outputs": [
    {
     "data": {
      "text/plain": [
       "[('kishan',), ('kio',), ('spam',)]"
      ]
     },
     "execution_count": 30,
     "metadata": {},
     "output_type": "execute_result"
    }
   ],
   "source": [
    "### method 5: list comprehension and tuple method()\n",
    "d = [['kishan'],['kio'],['spam']]\n",
    "t3 = [tuple(i) for i in d]\n",
    "t3"
   ]
  },
  {
   "cell_type": "markdown",
   "id": "327fda98",
   "metadata": {},
   "source": [
    "## tuples of list\n"
   ]
  },
  {
   "cell_type": "code",
   "execution_count": 36,
   "id": "97c9db5a",
   "metadata": {},
   "outputs": [
    {
     "data": {
      "text/plain": [
       "([1, 2, 3, 3, 4, 5], [25, 65], [78, 98])"
      ]
     },
     "execution_count": 36,
     "metadata": {},
     "output_type": "execute_result"
    }
   ],
   "source": [
    "x = [1,2,3,3,4,5]\n",
    "y = [25,65]\n",
    "z = [78,98]\n",
    "x1 = tuple([x,y,z])\n",
    "x1"
   ]
  },
  {
   "cell_type": "markdown",
   "id": "3404f757",
   "metadata": {},
   "source": [
    "## 16. Variables that \"contain\" list values are not necessarily lists themselves. Instead, what do they contain?"
   ]
  },
  {
   "cell_type": "markdown",
   "id": "bc6fda62",
   "metadata": {},
   "source": [
    "## Answer :\n",
    "\n",
    "    They contain references to list values."
   ]
  },
  {
   "cell_type": "markdown",
   "id": "60682492",
   "metadata": {},
   "source": [
    "## 17. How do you distinguish between copy.copy() and copy.deepcopy()?"
   ]
  },
  {
   "cell_type": "markdown",
   "id": "51dfc3e9",
   "metadata": {},
   "source": [
    "## Answer :\n",
    "    The copy.copy() function will do a shallow copy of a list, while the copy.deepcopy() function will do a deep copy of a list. That is, only copy.deepcopy() will duplicate any lists inside the list."
   ]
  }
 ],
 "metadata": {
  "kernelspec": {
   "display_name": "Python 3 (ipykernel)",
   "language": "python",
   "name": "python3"
  },
  "language_info": {
   "codemirror_mode": {
    "name": "ipython",
    "version": 3
   },
   "file_extension": ".py",
   "mimetype": "text/x-python",
   "name": "python",
   "nbconvert_exporter": "python",
   "pygments_lexer": "ipython3",
   "version": "3.9.7"
  }
 },
 "nbformat": 4,
 "nbformat_minor": 5
}
