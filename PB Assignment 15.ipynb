{
 "cells": [
  {
   "cell_type": "markdown",
   "id": "98b28c8d",
   "metadata": {},
   "source": [
    "## 1.How many seconds are in an hour? Use the interactive interpreter as a calculator and multiply the number of seconds in a minute (60) by the number of minutes in an hour (also 60).\n",
    "## Answer :\n"
   ]
  },
  {
   "cell_type": "code",
   "execution_count": 1,
   "id": "f8bca45d",
   "metadata": {},
   "outputs": [
    {
     "data": {
      "text/plain": [
       "3600"
      ]
     },
     "execution_count": 1,
     "metadata": {},
     "output_type": "execute_result"
    }
   ],
   "source": [
    "60*60"
   ]
  },
  {
   "cell_type": "markdown",
   "id": "b18013e2",
   "metadata": {},
   "source": [
    "## 2. Assign the result from the previous task (seconds in an hour) to a variable called seconds_per_hour.\n",
    "## Answer :\n"
   ]
  },
  {
   "cell_type": "code",
   "execution_count": 10,
   "id": "a7f606fc",
   "metadata": {},
   "outputs": [],
   "source": [
    "seconds_per_hour = 3600"
   ]
  },
  {
   "cell_type": "markdown",
   "id": "2c1e8b65",
   "metadata": {},
   "source": [
    "## 3. How many seconds do you think there are in a day? Make use of the variables seconds per hour and minutes per hour.\n",
    "## Answer :"
   ]
  },
  {
   "cell_type": "code",
   "execution_count": 11,
   "id": "5d1fafb5",
   "metadata": {},
   "outputs": [
    {
     "data": {
      "text/plain": [
       "86400"
      ]
     },
     "execution_count": 11,
     "metadata": {},
     "output_type": "execute_result"
    }
   ],
   "source": [
    "\n",
    "24*seconds_per_hour\n"
   ]
  },
  {
   "cell_type": "code",
   "execution_count": 14,
   "id": "4f276131",
   "metadata": {},
   "outputs": [
    {
     "data": {
      "text/plain": [
       "86400"
      ]
     },
     "execution_count": 14,
     "metadata": {},
     "output_type": "execute_result"
    }
   ],
   "source": [
    "minutes_per_hour = 60\n",
    "60*minutes_per_hour*24\n",
    " "
   ]
  },
  {
   "cell_type": "markdown",
   "id": "c97a4be3",
   "metadata": {},
   "source": [
    "## 4. Calculate seconds per day again, but this time save the result in a variable called seconds_per_day.\n",
    "## Answer :"
   ]
  },
  {
   "cell_type": "code",
   "execution_count": 15,
   "id": "a560ef55",
   "metadata": {},
   "outputs": [
    {
     "data": {
      "text/plain": [
       "86400"
      ]
     },
     "execution_count": 15,
     "metadata": {},
     "output_type": "execute_result"
    }
   ],
   "source": [
    "seconds_per_day = 24*seconds_per_hour\n",
    "seconds_per_day"
   ]
  },
  {
   "cell_type": "markdown",
   "id": "c80138ef",
   "metadata": {},
   "source": [
    "## 5. Divide seconds_per_day by seconds_per_hour. Use floating-point (/) division.\n",
    "## Answer :"
   ]
  },
  {
   "cell_type": "code",
   "execution_count": 16,
   "id": "fc66796a",
   "metadata": {},
   "outputs": [
    {
     "data": {
      "text/plain": [
       "24.0"
      ]
     },
     "execution_count": 16,
     "metadata": {},
     "output_type": "execute_result"
    }
   ],
   "source": [
    "ans = seconds_per_day/seconds_per_hour\n",
    "ans"
   ]
  },
  {
   "cell_type": "markdown",
   "id": "830f8ccf",
   "metadata": {},
   "source": [
    "## 6. Divide seconds_per_day by seconds_per_hour, using integer (//) division. Did this number agree with the floating-point value from the previous question, aside from the final .0?\n",
    "## Answer :"
   ]
  },
  {
   "cell_type": "code",
   "execution_count": 17,
   "id": "8b0cd22d",
   "metadata": {},
   "outputs": [
    {
     "data": {
      "text/plain": [
       "24"
      ]
     },
     "execution_count": 17,
     "metadata": {},
     "output_type": "execute_result"
    }
   ],
   "source": [
    "ans_2 = seconds_per_day//seconds_per_hour\n",
    "ans_2"
   ]
  },
  {
   "cell_type": "markdown",
   "id": "c768fa74",
   "metadata": {},
   "source": [
    "yes,this number agree with the floating-point value from the previous question, aside from the final.0"
   ]
  },
  {
   "cell_type": "markdown",
   "id": "ec7449ac",
   "metadata": {},
   "source": [
    "## 7. Write a generator, genPrimes, that returns the sequence of prime numbers on successive calls to its next() method: 2, 3, 5, 7, 11, ...\n",
    "## Answer :"
   ]
  },
  {
   "cell_type": "code",
   "execution_count": 18,
   "id": "56aa45c7",
   "metadata": {},
   "outputs": [],
   "source": [
    "def genPrimes():\n",
    "    primes = []   # primes generated so far\n",
    "    last = 1      # last number tried\n",
    "    while True:\n",
    "        last += 1\n",
    "        for p in primes:\n",
    "            if last % p == 0:\n",
    "                break\n",
    "        else:\n",
    "            primes.append(last)\n",
    "            yield last\n"
   ]
  },
  {
   "cell_type": "code",
   "execution_count": 19,
   "id": "85a0cb40",
   "metadata": {},
   "outputs": [
    {
     "name": "stdout",
     "output_type": "stream",
     "text": [
      "2\n",
      "3\n",
      "5\n",
      "7\n",
      "11\n",
      "13\n",
      "17\n",
      "19\n",
      "23\n"
     ]
    }
   ],
   "source": [
    "ki = genPrimes()\n",
    "for j in ki:\n",
    "    print(j)\n",
    "    if j>20:\n",
    "        break"
   ]
  },
  {
   "cell_type": "code",
   "execution_count": null,
   "id": "cbbcb68f",
   "metadata": {},
   "outputs": [],
   "source": []
  }
 ],
 "metadata": {
  "kernelspec": {
   "display_name": "Python 3 (ipykernel)",
   "language": "python",
   "name": "python3"
  },
  "language_info": {
   "codemirror_mode": {
    "name": "ipython",
    "version": 3
   },
   "file_extension": ".py",
   "mimetype": "text/x-python",
   "name": "python",
   "nbconvert_exporter": "python",
   "pygments_lexer": "ipython3",
   "version": "3.9.7"
  }
 },
 "nbformat": 4,
 "nbformat_minor": 5
}
