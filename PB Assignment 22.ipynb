{
 "cells": [
  {
   "cell_type": "markdown",
   "id": "b3ee677d",
   "metadata": {},
   "source": [
    "## Q. What is the result of the code, and explain?\n",
    "\n",
    "    X = 'iNeuron'\n",
    "    def func(): print(X)\n",
    "\n",
    "    func() "
   ]
  },
  {
   "cell_type": "code",
   "execution_count": 1,
   "id": "a9c3bf6f",
   "metadata": {},
   "outputs": [
    {
     "name": "stdout",
     "output_type": "stream",
     "text": [
      "INeuron\n"
     ]
    }
   ],
   "source": [
    "x = 'INeuron'\n",
    "def func():\n",
    "    print(x)\n",
    "func()"
   ]
  },
  {
   "cell_type": "markdown",
   "id": "97c9875b",
   "metadata": {},
   "source": [
    "## reason :\n",
    "    because x is a global variable and global variable can be called anywhere inside any function "
   ]
  },
  {
   "cell_type": "markdown",
   "id": "4a832dcc",
   "metadata": {},
   "source": [
    "## 2. What is the result of the code, and explain?\n",
    "    >>> X = 'iNeuron'\n",
    "    >>> def func():\n",
    "    X = 'NI!'\n",
    "\n",
    "\n",
    "    >>> func()\n",
    "    >>> print(X)\n",
    "## Answer :"
   ]
  },
  {
   "cell_type": "code",
   "execution_count": 3,
   "id": "a5def295",
   "metadata": {},
   "outputs": [
    {
     "name": "stdout",
     "output_type": "stream",
     "text": [
      "ineuron\n"
     ]
    }
   ],
   "source": [
    "x = 'ineuron'\n",
    "def func():\n",
    "    x = 'NI!'\n",
    "func()\n",
    "print(x)"
   ]
  },
  {
   "cell_type": "markdown",
   "id": "d4cdef4c",
   "metadata": {},
   "source": [
    "## reason :\n",
    "    The global variables are access inside the functions in python. But we can not access function variable out side           function.\n",
    "    x='NI!' is function variable that why we cannot access it by outside the function.\n",
    "    Since x is golbal variable we are able to print it out side of the function solution = 'iNeuron'"
   ]
  },
  {
   "cell_type": "markdown",
   "id": "e68e6cc8",
   "metadata": {},
   "source": [
    "## 3. What does this code print, and why?\n",
    "\n",
    "\n",
    "    >>> X = 'iNeuron'\n",
    "    >>> def func():\n",
    "    X = 'NI'\n",
    "    print(X)\n",
    "\n",
    "\n",
    "    >>> func() \n",
    "## Answer :"
   ]
  },
  {
   "cell_type": "code",
   "execution_count": 5,
   "id": "a30ace28",
   "metadata": {},
   "outputs": [
    {
     "name": "stdout",
     "output_type": "stream",
     "text": [
      "NI\n"
     ]
    }
   ],
   "source": [
    "x = 'ineuron'\n",
    "def func():\n",
    "    x = 'NI'\n",
    "    print(x)\n",
    "func()"
   ]
  },
  {
   "cell_type": "markdown",
   "id": "d3557d88",
   "metadata": {},
   "source": [
    "## Reason() :\n",
    "    this time print(x) is going to print the function variable because s inside print() function is function variable"
   ]
  },
  {
   "cell_type": "markdown",
   "id": "46b6f4b8",
   "metadata": {},
   "source": [
    " \n",
    "##    4. What output does this code produce? Why?\n",
    "\n",
    "\n",
    "    >>> X = 'iNeuron'\n",
    "    >>> def func():\n",
    "    global X\n",
    "    X = 'NI'\n",
    "\n",
    "\n",
    "    >>> func()\n",
    "    >>> print(X)"
   ]
  },
  {
   "cell_type": "code",
   "execution_count": 7,
   "id": "13223dcf",
   "metadata": {},
   "outputs": [
    {
     "name": "stdout",
     "output_type": "stream",
     "text": [
      "NI\n"
     ]
    }
   ],
   "source": [
    "x = 'ineuron'\n",
    "def func():\n",
    "    global x\n",
    "    x = 'NI'\n",
    "func()\n",
    "print(x)"
   ]
  },
  {
   "cell_type": "markdown",
   "id": "4f8bed71",
   "metadata": {},
   "source": [
    "## Reason :\n",
    "    this time global variable is mention inside the function means function variable and global variable is same this time"
   ]
  },
  {
   "cell_type": "markdown",
   "id": "343d3002",
   "metadata": {},
   "source": [
    "## 5. What about this code—what’s the output, and why?\n",
    "    >>> X = 'iNeuron'\n",
    "    >>> def func():\n",
    "    X = 'NI'\n",
    "    def nested():\n",
    "    print(X)\n",
    "    nested()\n",
    "\n",
    "\n",
    "    >>> func()\n",
    "    >>> X"
   ]
  },
  {
   "cell_type": "code",
   "execution_count": 10,
   "id": "b9658317",
   "metadata": {},
   "outputs": [
    {
     "name": "stdout",
     "output_type": "stream",
     "text": [
      "ineuron\n"
     ]
    },
    {
     "data": {
      "text/plain": [
       "'ineuron'"
      ]
     },
     "execution_count": 10,
     "metadata": {},
     "output_type": "execute_result"
    }
   ],
   "source": [
    "x = 'ineuron'\n",
    "def func() :\n",
    "    x = 'NI'\n",
    "def nested():\n",
    "    print(x)\n",
    "\n",
    "nested()\n",
    "func()\n",
    "x"
   ]
  },
  {
   "cell_type": "markdown",
   "id": "3dcc42d8",
   "metadata": {},
   "source": [
    "    first time ineuron as a answer is because functin nested is calling global variable x and printing it.\n",
    "    second time ineuron answer is because we are calling directly global variable"
   ]
  },
  {
   "cell_type": "markdown",
   "id": "c9d854bc",
   "metadata": {},
   "source": [
    "## 6. How about this code: what is its output in Python 3, and explain?\n",
    "\n",
    "\n",
    "    >>> def func():\n",
    "    X = 'NI'\n",
    "    def nested():\n",
    "    nonlocal X\n",
    "    X = 'Spam'\n",
    "    nested()\n",
    "    print(X)\n",
    "\n",
    "\n",
    "    >>> func()"
   ]
  },
  {
   "cell_type": "code",
   "execution_count": 13,
   "id": "a700f749",
   "metadata": {},
   "outputs": [
    {
     "name": "stdout",
     "output_type": "stream",
     "text": [
      "spam\n"
     ]
    }
   ],
   "source": [
    "def func():\n",
    "    X = 'NI'\n",
    "    def nested():\n",
    "        nonlocal X\n",
    "        X = 'spam'\n",
    "    nested()\n",
    "    print(X)\n",
    "\n",
    "func()"
   ]
  },
  {
   "cell_type": "markdown",
   "id": "24d23e54",
   "metadata": {},
   "source": [
    "##  Reasson :\n",
    "    Nonlocal variables are used in nested functions whose local scope is not defined. \n",
    "    This means that the variable can be neither in the local nor the global scope. it print the updated value from nested \n",
    "    function\n",
    "\n",
    "    Sol : 'spam'"
   ]
  }
 ],
 "metadata": {
  "kernelspec": {
   "display_name": "Python 3 (ipykernel)",
   "language": "python",
   "name": "python3"
  },
  "language_info": {
   "codemirror_mode": {
    "name": "ipython",
    "version": 3
   },
   "file_extension": ".py",
   "mimetype": "text/x-python",
   "name": "python",
   "nbconvert_exporter": "python",
   "pygments_lexer": "ipython3",
   "version": "3.9.7"
  }
 },
 "nbformat": 4,
 "nbformat_minor": 5
}
