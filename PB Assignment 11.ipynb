{
 "cells": [
  {
   "cell_type": "markdown",
   "id": "ea9fc435",
   "metadata": {},
   "source": [
    "## 1. Create an assert statement that throws an AssertionError if the variable spam is a negative integer.\n",
    "## Answer :"
   ]
  },
  {
   "cell_type": "code",
   "execution_count": 9,
   "id": "55524423",
   "metadata": {},
   "outputs": [
    {
     "ename": "AssertionError",
     "evalue": "## spam variable is less than 0 means negative integer",
     "output_type": "error",
     "traceback": [
      "\u001b[1;31m---------------------------------------------------------------------------\u001b[0m",
      "\u001b[1;31mAssertionError\u001b[0m                            Traceback (most recent call last)",
      "\u001b[1;32m~\\AppData\\Local\\Temp/ipykernel_9788/739007733.py\u001b[0m in \u001b[0;36m<module>\u001b[1;34m\u001b[0m\n\u001b[0;32m      1\u001b[0m \u001b[0mspam\u001b[0m \u001b[1;33m=\u001b[0m \u001b[1;33m-\u001b[0m\u001b[1;36m9\u001b[0m\u001b[1;33m\u001b[0m\u001b[1;33m\u001b[0m\u001b[0m\n\u001b[1;32m----> 2\u001b[1;33m \u001b[1;32massert\u001b[0m \u001b[0mspam\u001b[0m \u001b[1;33m>=\u001b[0m \u001b[1;36m0\u001b[0m\u001b[1;33m,\u001b[0m \u001b[1;34m'## spam variable is less than 0 means negative integer'\u001b[0m\u001b[1;33m\u001b[0m\u001b[1;33m\u001b[0m\u001b[0m\n\u001b[0m",
      "\u001b[1;31mAssertionError\u001b[0m: ## spam variable is less than 0 means negative integer"
     ]
    }
   ],
   "source": [
    "spam = -9\n",
    "assert spam >= 0, '## spam variable is less than 0 means negative integer'\n"
   ]
  },
  {
   "cell_type": "markdown",
   "id": "7b18b815",
   "metadata": {},
   "source": [
    "## 2. Write an assert statement that triggers an AssertionError if the variables eggs and bacon contain strings that are the same as each other, even if their cases are different (that is, 'hello' and 'hello' are considered the same, and 'goodbye' and 'GOODbye' are also considered the same).\n",
    "## Answer :"
   ]
  },
  {
   "cell_type": "code",
   "execution_count": 10,
   "id": "ca38bba5",
   "metadata": {},
   "outputs": [
    {
     "ename": "AssertionError",
     "evalue": "both variable eggs and bacon are same string",
     "output_type": "error",
     "traceback": [
      "\u001b[1;31m---------------------------------------------------------------------------\u001b[0m",
      "\u001b[1;31mAssertionError\u001b[0m                            Traceback (most recent call last)",
      "\u001b[1;32m~\\AppData\\Local\\Temp/ipykernel_9788/3833768739.py\u001b[0m in \u001b[0;36m<module>\u001b[1;34m\u001b[0m\n\u001b[0;32m      3\u001b[0m \u001b[0meggs2\u001b[0m \u001b[1;33m=\u001b[0m \u001b[1;34m'gooddye'\u001b[0m\u001b[1;33m\u001b[0m\u001b[1;33m\u001b[0m\u001b[0m\n\u001b[0;32m      4\u001b[0m \u001b[0mbacon2\u001b[0m \u001b[1;33m=\u001b[0m \u001b[1;34m'GOODbye'\u001b[0m\u001b[1;33m\u001b[0m\u001b[1;33m\u001b[0m\u001b[0m\n\u001b[1;32m----> 5\u001b[1;33m \u001b[1;32massert\u001b[0m \u001b[0meggs1\u001b[0m\u001b[1;33m.\u001b[0m\u001b[0mlower\u001b[0m\u001b[1;33m(\u001b[0m\u001b[1;33m)\u001b[0m \u001b[1;33m!=\u001b[0m \u001b[0mbacon1\u001b[0m\u001b[1;33m.\u001b[0m\u001b[0mlower\u001b[0m\u001b[1;33m(\u001b[0m\u001b[1;33m)\u001b[0m\u001b[1;33m,\u001b[0m\u001b[1;34m'both variable eggs and bacon are same string'\u001b[0m\u001b[1;33m\u001b[0m\u001b[1;33m\u001b[0m\u001b[0m\n\u001b[0m",
      "\u001b[1;31mAssertionError\u001b[0m: both variable eggs and bacon are same string"
     ]
    }
   ],
   "source": [
    "eggs1 = 'hello'\n",
    "bacon1 = 'hello'\n",
    "eggs2 = 'gooddye' \n",
    "bacon2 = 'GOODbye'\n",
    "assert eggs1.lower() != bacon1.lower(),'both variable eggs1 and bacon1 are same string'\n"
   ]
  },
  {
   "cell_type": "markdown",
   "id": "25dfd454",
   "metadata": {},
   "source": [
    "## 3. Create an assert statement that throws an AssertionError every time.\n",
    "## Answer :\n",
    "    assert False,'Asserion always triggers'\n"
   ]
  },
  {
   "cell_type": "markdown",
   "id": "1ca6378f",
   "metadata": {},
   "source": [
    "## 4. What are two lines that must be present in your software while calling logging.debug?\n",
    "## Answer :\n",
    "    import logging\n",
    "    logging.basicConfig(level=logging.DEBUG, format=' %(asctime)s - %(levelname)s - %(message)s')"
   ]
  },
  {
   "cell_type": "markdown",
   "id": "6bc4fc23",
   "metadata": {},
   "source": [
    "## 5. What are the two lines that your program must have in order to have logging.debug() send a logging message to a file named programLog.txt?\n",
    "## Answer :\n"
   ]
  },
  {
   "cell_type": "code",
   "execution_count": 16,
   "id": "e6fd019a",
   "metadata": {},
   "outputs": [],
   "source": [
    "import logging\n",
    "logging.basicConfig(filename = 'programLog.txt',level = logging.DEBUG,format = '%(asctime)s - %(levelname)s - %(mesage)s')"
   ]
  },
  {
   "cell_type": "markdown",
   "id": "9ecb5cb9",
   "metadata": {},
   "source": [
    "## 6. What are the five levels of logging? \n",
    "## Answer :\n",
    "    1. DEBUG\n",
    "    2. INFO\n",
    "    3. WARNING\n",
    "    4. ERROR\n",
    "    5. CRITICAL\n",
    "\n"
   ]
  },
  {
   "cell_type": "markdown",
   "id": "8dfaf5ce",
   "metadata": {},
   "source": [
    "## 7. What line of code would you add to your software to disable all logging messages?\n",
    "## Answer :\n",
    "    logging.disable(logging.CRITICAL)\n"
   ]
  },
  {
   "cell_type": "markdown",
   "id": "f10c48a5",
   "metadata": {},
   "source": [
    "## 8.Why is using logging messages better than using print() to display the same message?\n",
    "## Answer :\n",
    "    1. print() will only print the content on console only with None datatype , which is of no use\n",
    "    2. logging message are always recorded into log file which can furthure use as analysis purpose or something else\n",
    "    3. log file helps as to track the code .\n"
   ]
  },
  {
   "cell_type": "markdown",
   "id": "9477bd07",
   "metadata": {},
   "source": [
    "## 9. What are the differences between the Step Over, Step In, and Step Out buttons in the debugger?\n",
    "## Answer :\n",
    "    step in :\n",
    "        if the function is call than it will go inside the function and we can able to execute that how each code is working line by line till the end.\n",
    "    step over :\n",
    "        if the function is called than you cannot the inside working of function like step in , only result is visible to us\n",
    "    step out :\n",
    "        means that if you have Stepped in a function and now you want to skip seeing how the rest of the function is going to execute, you Step out and the function returns. Then, you go back to the next line, that is the line right after the function call.\n"
   ]
  },
  {
   "cell_type": "markdown",
   "id": "5ef2d610",
   "metadata": {},
   "source": [
    "## 10. After you click Continue, when will the debugger stop ?\n",
    "## Answer :\n",
    "    the debugger will stop when it has reached the end of the program or a line with a breakpoint."
   ]
  },
  {
   "cell_type": "markdown",
   "id": "06cf7df2",
   "metadata": {},
   "source": [
    "## 11. What is the concept of a breakpoint?\n",
    "## Answer :\n",
    "    breakpoint() is a inbuit function of python that allow developer to set a code to stop the debugger and perform it's       take.\n",
    "    breakpoint() is used at multiple point in whole program."
   ]
  },
  {
   "cell_type": "code",
   "execution_count": null,
   "id": "7c03a5e9",
   "metadata": {},
   "outputs": [],
   "source": []
  }
 ],
 "metadata": {
  "kernelspec": {
   "display_name": "Python 3 (ipykernel)",
   "language": "python",
   "name": "python3"
  },
  "language_info": {
   "codemirror_mode": {
    "name": "ipython",
    "version": 3
   },
   "file_extension": ".py",
   "mimetype": "text/x-python",
   "name": "python",
   "nbconvert_exporter": "python",
   "pygments_lexer": "ipython3",
   "version": "3.9.7"
  }
 },
 "nbformat": 4,
 "nbformat_minor": 5
}
