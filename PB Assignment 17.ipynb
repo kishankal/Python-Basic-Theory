{
 "cells": [
  {
   "cell_type": "markdown",
   "id": "7270922a",
   "metadata": {},
   "source": [
    "## 1. Assign the value 7 to the variable guess_me. Then, write the conditional tests (if,              else, and elif) to print the string 'too low' if guess_me is less than 7, 'too high' if greater      than 7, and 'just right' if equal to 7.\n",
    "## Answer :"
   ]
  },
  {
   "cell_type": "code",
   "execution_count": 1,
   "id": "239d407c",
   "metadata": {},
   "outputs": [
    {
     "name": "stdout",
     "output_type": "stream",
     "text": [
      "enter any integer : 7\n",
      "just right\n"
     ]
    }
   ],
   "source": [
    "guess_me = int(input('enter any integer : '))\n",
    "if guess_me < 7:\n",
    "    print('too low')\n",
    "elif guess_me > 7:\n",
    "    print('too high')\n",
    "else :\n",
    "    print('just right')"
   ]
  },
  {
   "cell_type": "markdown",
   "id": "a40ec1c1",
   "metadata": {},
   "source": [
    "## 2. Assign the value 7 to the variable guess_me and the value 1 to the variable start. Write a while loop that compares start with guess_me. Print too low if start is less than guess me. If start equals guess_me, print 'found it!' and exit the loop. If start is greater than guess_me, print 'oops' and exit the loop. Increment start at the end of the loop.\n",
    "## Answer :\n"
   ]
  },
  {
   "cell_type": "code",
   "execution_count": 2,
   "id": "35837e13",
   "metadata": {},
   "outputs": [
    {
     "name": "stdout",
     "output_type": "stream",
     "text": [
      "enter any integer7\n",
      "enter any integer1\n",
      "too low\n",
      "too low\n",
      "too low\n",
      "too low\n",
      "too low\n",
      "too low\n",
      "found it!\n"
     ]
    }
   ],
   "source": [
    "guess_me = int(input('enter any integer'))\n",
    "start = int(input('enter any integer'))\n",
    "\n",
    "while True:\n",
    "    \n",
    "    if start < guess_me:\n",
    "        print('too low')\n",
    "        \n",
    "    elif start == guess_me:\n",
    "        print('found it!')\n",
    "        break\n",
    "        \n",
    "    else:\n",
    "        print('oops')\n",
    "        break\n",
    "        \n",
    "    start = start +  1"
   ]
  },
  {
   "cell_type": "markdown",
   "id": "cf22c77c",
   "metadata": {},
   "source": [
    "## 3. Print the following values of the list [3, 2, 1, 0] using a for loop.\n",
    "## Answer :"
   ]
  },
  {
   "cell_type": "code",
   "execution_count": 6,
   "id": "65a864cc",
   "metadata": {},
   "outputs": [
    {
     "name": "stdout",
     "output_type": "stream",
     "text": [
      "enter how many number you want to enter into list l4\n",
      "enter value3\n",
      "enter value2\n",
      "enter value1\n",
      "enter value0\n",
      "list after append : [3, 2, 1, 0]\n",
      "3\n",
      "2\n",
      "1\n",
      "0\n"
     ]
    }
   ],
   "source": [
    "l = []\n",
    "n = int(input('enter how many number you want to enter into list l'))\n",
    "\n",
    "## taking input by user\n",
    "for i in range(n):\n",
    "    a = int(input('enter value'))\n",
    "    l.append(a)\n",
    "print(f\"list after append : {l}\")\n",
    "\n",
    "## for printing each value of list l\n",
    "\n",
    "for j in l:\n",
    "    print(j)"
   ]
  },
  {
   "cell_type": "markdown",
   "id": "f192c123",
   "metadata": {},
   "source": [
    "## 4. Use a list comprehension to make a list of the even numbers in range(10)\n",
    "## Answer :\n"
   ]
  },
  {
   "cell_type": "code",
   "execution_count": 7,
   "id": "4a004286",
   "metadata": {},
   "outputs": [
    {
     "data": {
      "text/plain": [
       "[0, 2, 4, 6, 8]"
      ]
     },
     "execution_count": 7,
     "metadata": {},
     "output_type": "execute_result"
    }
   ],
   "source": [
    "even_list = [i for i in range(10) if i%2 == 0]\n",
    "even_list"
   ]
  },
  {
   "cell_type": "markdown",
   "id": "581cd409",
   "metadata": {},
   "source": [
    "## 5. Use a dictionary comprehension to create the dictionary squares. Use range(10) to return the keys, and use the square of each key as its value.\n",
    "## Answer :"
   ]
  },
  {
   "cell_type": "code",
   "execution_count": 10,
   "id": "0544f14d",
   "metadata": {},
   "outputs": [
    {
     "data": {
      "text/plain": [
       "{0: 0, 1: 1, 2: 4, 3: 9, 4: 16, 5: 25, 6: 36, 7: 49, 8: 64, 9: 81}"
      ]
     },
     "execution_count": 10,
     "metadata": {},
     "output_type": "execute_result"
    }
   ],
   "source": [
    "square_dict = {i: i*i for i in range(10)}\n",
    "square_dict"
   ]
  },
  {
   "cell_type": "markdown",
   "id": "c2626966",
   "metadata": {},
   "source": [
    "## 6. Construct the set odd from the odd numbers in the range(10) using a set comprehension.\n",
    "## Answer :"
   ]
  },
  {
   "cell_type": "code",
   "execution_count": 20,
   "id": "2a5e9215",
   "metadata": {},
   "outputs": [
    {
     "data": {
      "text/plain": [
       "{1, 3, 5, 7, 9}"
      ]
     },
     "execution_count": 20,
     "metadata": {},
     "output_type": "execute_result"
    }
   ],
   "source": [
    "odd_set = {i for i in range(10) if i%2 !=0}\n",
    "odd_set"
   ]
  },
  {
   "cell_type": "code",
   "execution_count": 19,
   "id": "8e0afb78",
   "metadata": {},
   "outputs": [
    {
     "data": {
      "text/plain": [
       "set"
      ]
     },
     "execution_count": 19,
     "metadata": {},
     "output_type": "execute_result"
    }
   ],
   "source": [
    "type(odd_set)"
   ]
  },
  {
   "cell_type": "markdown",
   "id": "1a37be18",
   "metadata": {},
   "source": [
    "## 7. Use a generator comprehension to return the string 'Got ' and a number for the numbers in range(10). Iterate through this by using a for loop.\n",
    "## Answer :"
   ]
  },
  {
   "cell_type": "code",
   "execution_count": 23,
   "id": "863d2a86",
   "metadata": {},
   "outputs": [
    {
     "name": "stdout",
     "output_type": "stream",
     "text": [
      "Got 0\n",
      "Got 1\n",
      "Got 2\n",
      "Got 3\n",
      "Got 4\n",
      "Got 5\n",
      "Got 6\n",
      "Got 7\n",
      "Got 8\n",
      "Got 9\n"
     ]
    }
   ],
   "source": [
    "string_gen = ('Got ' + str(i) for i in range(10))\n",
    "for j in string_gen:\n",
    "    print(j)"
   ]
  },
  {
   "cell_type": "markdown",
   "id": "98a88b0d",
   "metadata": {},
   "source": [
    "## 8. Define a function called good that returns the list ['Harry', 'Ron', 'Hermione'].\n",
    "## Answer :"
   ]
  },
  {
   "cell_type": "code",
   "execution_count": 27,
   "id": "150f22e8",
   "metadata": {},
   "outputs": [
    {
     "data": {
      "text/plain": [
       "['Haary', 'Ron', 'Hermione']"
      ]
     },
     "execution_count": 27,
     "metadata": {},
     "output_type": "execute_result"
    }
   ],
   "source": [
    "\n",
    "def good():\n",
    "    l = ['Haary','Ron','Hermione']\n",
    "    return l\n",
    "good()"
   ]
  },
  {
   "cell_type": "markdown",
   "id": "075a20aa",
   "metadata": {},
   "source": [
    "## 9. Define a generator function called get_odds that returns the odd numbers from range(10). Use a for loop to find and print the third value returned."
   ]
  },
  {
   "cell_type": "code",
   "execution_count": 37,
   "id": "debad7f2",
   "metadata": {},
   "outputs": [
    {
     "name": "stdout",
     "output_type": "stream",
     "text": [
      "third number is 5\n"
     ]
    }
   ],
   "source": [
    "def get_odds():\n",
    "    for i in range(1,10,2):\n",
    "        yield i\n",
    "        \n",
    "count = 1\n",
    "\n",
    "for j in get_odds():\n",
    "    if count == 3:\n",
    "        print(f'third number is {j}')\n",
    "        break\n",
    "    count += 1\n"
   ]
  },
  {
   "cell_type": "markdown",
   "id": "0eb9ad94",
   "metadata": {},
   "source": [
    "## 10. Define an exception called OopsException. Raise this exception to see what happens. Then write the code to catch this exception and print 'Caught an oops'.\n",
    "## Answer :"
   ]
  },
  {
   "cell_type": "code",
   "execution_count": 57,
   "id": "dce2d1b8",
   "metadata": {},
   "outputs": [
    {
     "name": "stdout",
     "output_type": "stream",
     "text": [
      "Caught an oops\n"
     ]
    }
   ],
   "source": [
    "class OopsException(Exception):\n",
    "    pass\n",
    "\n",
    "def raiseException(n):\n",
    "    if n < 0:\n",
    "        raise OopsException(n)\n",
    "\n",
    "try:\n",
    "    raiseException(-1)\n",
    "except OopsException as err:\n",
    "    print('Caught an oops')\n"
   ]
  },
  {
   "cell_type": "markdown",
   "id": "94319914",
   "metadata": {},
   "source": [
    "## 11. Use zip() to make a dictionary called movies that pairs these lists: titles = ['Creature          of Habit', 'Crewel Fate'] and plots = ['A nun turns into a monster', 'A haunted yarn shop']\n",
    "## Answer :"
   ]
  },
  {
   "cell_type": "code",
   "execution_count": 61,
   "id": "a569ebc0",
   "metadata": {},
   "outputs": [
    {
     "data": {
      "text/plain": [
       "{'Creature of Habit': 'A nun turns into a monster',\n",
       " 'Crewel Fate': 'A hunted yarn shop'}"
      ]
     },
     "execution_count": 61,
     "metadata": {},
     "output_type": "execute_result"
    }
   ],
   "source": [
    "titles = ['Creature of Habit','Crewel Fate']\n",
    "plots = ['A nun turns into a monster','A hunted yarn shop']\n",
    "movies = dict(zip(titles,plots))\n",
    "movies\n"
   ]
  }
 ],
 "metadata": {
  "kernelspec": {
   "display_name": "Python 3 (ipykernel)",
   "language": "python",
   "name": "python3"
  },
  "language_info": {
   "codemirror_mode": {
    "name": "ipython",
    "version": 3
   },
   "file_extension": ".py",
   "mimetype": "text/x-python",
   "name": "python",
   "nbconvert_exporter": "python",
   "pygments_lexer": "ipython3",
   "version": "3.9.7"
  }
 },
 "nbformat": 4,
 "nbformat_minor": 5
}
