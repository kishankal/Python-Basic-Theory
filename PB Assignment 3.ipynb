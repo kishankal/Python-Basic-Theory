{
 "cells": [
  {
   "cell_type": "markdown",
   "id": "3d6d0658",
   "metadata": {},
   "source": [
    "## 1. Why are functions advantageous to have in your programs?"
   ]
  },
  {
   "cell_type": "markdown",
   "id": "e43dea95",
   "metadata": {},
   "source": [
    "## Answer :   \n",
    "   \n",
    "    1. same code need not be written again. So length of the source program decreases.\n",
    "    2. as the program length decreases, the memory requried for the program also decreases.\n",
    "    3. we can call function any number of times from any place.\n",
    "    4. as the program length decreases, time taken less for to write program."
   ]
  },
  {
   "cell_type": "markdown",
   "id": "3d011e62",
   "metadata": {},
   "source": [
    "## 2. When does the code in a function run: when it's specified or when it's called?\n",
    " \n",
    "### Answer : \n",
    "    When it's called"
   ]
  },
  {
   "cell_type": "markdown",
   "id": "b52062c7",
   "metadata": {},
   "source": [
    "## 3. What statement creates a function?  \n",
    "### Answer : def is the statement to define a function\n",
    "    eg:\n",
    "        def kishan(a):\n",
    "            print(a)\n",
    "        kishan(1)"
   ]
  },
  {
   "cell_type": "markdown",
   "id": "146edf37",
   "metadata": {},
   "source": [
    "## 4. What is the difference between a function and a function call?\n",
    "### Answer :\n",
    "    function :\n",
    "        function is a set of code which run that code and provide result of it.\n",
    "        it takes input as a parameter , it can run without giving parameter to it.\n",
    "    function call :\n",
    "        call function just used to pass control to function or to call function by passing parameter if it's requried\n",
    "    eg:\n",
    "        def kishan():\n",
    "            print('hello')\n",
    "        kishan()\n",
    "        \n",
    "    def kishan(): main function define without parameter\n",
    "    kishan() is call function without parameter\n",
    "    \n",
    "    "
   ]
  },
  {
   "cell_type": "markdown",
   "id": "28d35048",
   "metadata": {},
   "source": [
    "## 5. How many global scopes are there in a Python program? How many local scopes?\n",
    "\n",
    "### Answer :\n",
    "    there is only one global scope per program\n",
    "    local scope: local scope is created when function is called\n",
    "    "
   ]
  },
  {
   "cell_type": "markdown",
   "id": "b8e4183c",
   "metadata": {},
   "source": [
    "## 6. What happens to variables in a local scope when the function call returns?\n",
    "\n",
    "## Answer :\n",
    "   When a function returns, the local scope is destroyed, and all the variables in it are forgotten."
   ]
  },
  {
   "cell_type": "markdown",
   "id": "1607963e",
   "metadata": {},
   "source": [
    "## 7. What is the concept of a return value? Is it possible to have a return value in an expression?\n",
    "\n",
    "## Answer :\n",
    "    return value in python is a special statement used in function or method to send the result by ending the execution of     pragram back to calling function.\n",
    "    yes, it's possible to have a return value in an expression\n",
    "    eg :\n",
    "        def kio(a,b):\n",
    "            return a+b\n",
    "        kio(10,2)\n",
    "        \n",
    "        output : 12\n",
    "    "
   ]
  },
  {
   "cell_type": "markdown",
   "id": "4746a865",
   "metadata": {},
   "source": [
    "## 8. If a function does not have a return statement, what is the return value of a call to that function?\n",
    "\n",
    "## Answer :\n",
    "     if return statement is not in called function then after the execution of last statement of called function control        automatically return to calling function, in this type of condition the return value of called function is undefined        or None."
   ]
  },
  {
   "cell_type": "markdown",
   "id": "ad9fd3cb",
   "metadata": {},
   "source": [
    "## 9. How do you make a function variable refer to the global variable?\n",
    "\n"
   ]
  },
  {
   "cell_type": "code",
   "execution_count": 19,
   "id": "5ee5189f",
   "metadata": {},
   "outputs": [
    {
     "data": {
      "text/plain": [
       "100"
      ]
     },
     "execution_count": 19,
     "metadata": {},
     "output_type": "execute_result"
    }
   ],
   "source": [
    "a = 10 # global variable\n",
    "\n",
    "def test():\n",
    "    global a # copy of global variable\n",
    "    a = 0   # a is local variable\n",
    "    return a\n",
    "def test1():\n",
    "    a = 100 # without making copy of global variable\n",
    "    return a\n",
    "\n",
    "test1()\n"
   ]
  },
  {
   "cell_type": "markdown",
   "id": "4c43c670",
   "metadata": {},
   "source": [
    "## 10 what is datatype of None?\n",
    "\n",
    "## Answer :\n",
    "\n",
    " None is a datatype of it's own None type"
   ]
  },
  {
   "cell_type": "markdown",
   "id": "b71492b6",
   "metadata": {},
   "source": [
    "## 11. What does the sentence import areallyourpetsnamederic do?\n",
    "## Answer :\n",
    "    this is not a real python module"
   ]
  },
  {
   "cell_type": "markdown",
   "id": "04aea9c2",
   "metadata": {},
   "source": [
    "## 12. If you had a bacon() feature in a spam module, what would you call it after importing spam?\n",
    "## Answer :\n",
    "\n",
    "bacon() function can be called by : spam.bacon()"
   ]
  },
  {
   "cell_type": "markdown",
   "id": "e2ca620e",
   "metadata": {},
   "source": [
    "## 13. What can you do to save a programme from crashing if it encounters an error?\n",
    "## Answer :\n",
    "\n",
    "to save a program by crashing just past that line of code in try clause."
   ]
  },
  {
   "cell_type": "markdown",
   "id": "c2bc3e63",
   "metadata": {},
   "source": [
    "## 14. What is the purpose of the try clause? What is the purpose of the except clause?\n",
    "## Answer :\n",
    "\n",
    "The code that could potentially cause an error goes in the try clause.\n",
    "\n",
    "The code that executes if an error happens goes in the except clause."
   ]
  },
  {
   "cell_type": "code",
   "execution_count": null,
   "id": "804af6ed",
   "metadata": {},
   "outputs": [],
   "source": []
  }
 ],
 "metadata": {
  "kernelspec": {
   "display_name": "Python 3 (ipykernel)",
   "language": "python",
   "name": "python3"
  },
  "language_info": {
   "codemirror_mode": {
    "name": "ipython",
    "version": 3
   },
   "file_extension": ".py",
   "mimetype": "text/x-python",
   "name": "python",
   "nbconvert_exporter": "python",
   "pygments_lexer": "ipython3",
   "version": "3.9.7"
  }
 },
 "nbformat": 4,
 "nbformat_minor": 5
}
