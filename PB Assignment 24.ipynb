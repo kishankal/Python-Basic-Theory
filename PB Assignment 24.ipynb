{
 "cells": [
  {
   "cell_type": "markdown",
   "id": "96d75519",
   "metadata": {},
   "source": [
    "## 1. What is the relationship between def statements and lambda expressions ?\n",
    "## Answer :"
   ]
  },
  {
   "cell_type": "markdown",
   "id": "14651a1e",
   "metadata": {},
   "source": [
    "    def statements :\n",
    "        → def is the header of function and function defining always start with header def statement\n",
    "        → all function name are uniquely define\n",
    "    lambda statement :\n",
    "        → lambda is the one line function.\n",
    "        → it does't contain unique function name\n",
    "        → working is samae as def function but it can have only one expression "
   ]
  },
  {
   "cell_type": "markdown",
   "id": "af6ee6c6",
   "metadata": {},
   "source": [
    "## 2. What is the benefit of lambda?\n",
    "## Answer :"
   ]
  },
  {
   "cell_type": "markdown",
   "id": "45ed395f",
   "metadata": {},
   "source": [
    "    → because it's inline function the run time of lambda function is faster.\n",
    "    → make code much more readable by avoiding the logical jumps caused by function calls."
   ]
  },
  {
   "cell_type": "markdown",
   "id": "97011567",
   "metadata": {},
   "source": [
    "## 3. Compare and contrast map, filter, and reduce.\n",
    "## Answer :"
   ]
  },
  {
   "cell_type": "markdown",
   "id": "78a953e8",
   "metadata": {},
   "source": [
    "    map() :\n",
    "    → inbuit function of python\n",
    "    → this function can take any function as a parameter and can supply same function as a parameter to another function\n",
    "    → Applies a given function to all the iterables and returns a new list\n",
    "    syntax = map(function,iterables)\n",
    "    filter() :\n",
    "    → inbuit function of python\n",
    "    → this function can take any function as a parameter and can supply same function as a parameter to another function\n",
    "    → creates an output list consisiting of values for which the function returns value\n",
    "    → used to filter the given iteration list,sets,etc) with the hlep of another function passed as an argument to test           all the elements to be true or false\n",
    "    syntax = filter(function with condition,iterables)\n",
    "    reduce() :\n",
    "    → inbuit function of python\n",
    "    → this function can take any function as a parameter and can supply same function as a parameter to another function\n",
    "    → Applies a given function to the iterables and returns a single value\n",
    "      syntax : reduce(function,iterables)"
   ]
  },
  {
   "cell_type": "code",
   "execution_count": 1,
   "id": "7a916f90",
   "metadata": {},
   "outputs": [
    {
     "name": "stdout",
     "output_type": "stream",
     "text": [
      "[6, 7, 8, 9, 10]\n"
     ]
    }
   ],
   "source": [
    "## Map function\n",
    "\n",
    "lst = [1,2,3,4,5]\n",
    "y = list(map(lambda x:x+5,lst))\n",
    "print(y)"
   ]
  },
  {
   "cell_type": "code",
   "execution_count": 2,
   "id": "1a35b4d3",
   "metadata": {},
   "outputs": [
    {
     "name": "stdout",
     "output_type": "stream",
     "text": [
      "[4, 5, 6]\n"
     ]
    }
   ],
   "source": [
    "## filter function\n",
    "\n",
    "x = filter(lambda x:x>3,(1,2,3,4,5,6))\n",
    "print(list(x))"
   ]
  },
  {
   "cell_type": "code",
   "execution_count": 3,
   "id": "7173cb2d",
   "metadata": {},
   "outputs": [
    {
     "name": "stdout",
     "output_type": "stream",
     "text": [
      "45\n"
     ]
    }
   ],
   "source": [
    "## reduce function \n",
    "\n",
    "from functools import reduce\n",
    "def new(a,b):\n",
    "    return a+b\n",
    "s = reduce(new,[1,2,3,4,5,6,7,8,9])\n",
    "print(s)"
   ]
  },
  {
   "cell_type": "markdown",
   "id": "a38f598d",
   "metadata": {},
   "source": [
    "## 4. What are function annotations, and how are they used?\n",
    "## Answer :"
   ]
  },
  {
   "cell_type": "markdown",
   "id": "0094eb04",
   "metadata": {},
   "source": [
    "    Function annotation is the standard way to access the metadata with the arguments and the return value of the function.     These are nothing but some random and optional Python expressions that get allied to different parts of the function.       They get evaluated only during the compile-time and have no significance during the run-time of the code. They do not       have any significance or meaning associated with them until accessed by some third-party libraries. They are used to       type check the functions by declaring the type of the parameters and the return value for the functions. The string-       based annotations help us to improve the help messages.\n",
    "\n",
    "    Syntax :\n",
    "    def func(a: 'int') -> 'int':\n",
    "        pass\n",
    "        \n",
    "    Annotations for simple parameters:\n",
    "    def func(x: 'float'=10.8, y: 'argument2'):\n",
    "    In the above code the argument, ‘x’ of the function func, has been annotated to float data type and the argument ‘y’       has a string-based annotation. The argument can also be assigned to a default value using a ‘=’ symbol followed by the     default value. These default values are optional to the code.\n",
    "    \n",
    "    Annotations for return values:\n",
    "    def func(a: expression) -> 'int':\n",
    "    The annotations for the return value is written after the ‘->’ symbol."
   ]
  },
  {
   "cell_type": "code",
   "execution_count": 4,
   "id": "59b892cc",
   "metadata": {},
   "outputs": [
    {
     "name": "stdout",
     "output_type": "stream",
     "text": [
      "{'n': 'float', 'b': 'int', 'return': 'result'}\n"
     ]
    }
   ],
   "source": [
    "def fib(n:'float', b:'int')-> 'result': \n",
    "    pass\n",
    "print(fib.__annotations__)"
   ]
  },
  {
   "cell_type": "markdown",
   "id": "a0445e5f",
   "metadata": {},
   "source": [
    "## 5. What are recursive functions, and how are they used?\n",
    "## Answer :"
   ]
  },
  {
   "cell_type": "markdown",
   "id": "75f3fdb0",
   "metadata": {},
   "source": [
    "     A recursive function is a function that calls itself during its execution. This means that the function will continue      to call itself and repeat its behavior until some condition is met to return a result"
   ]
  },
  {
   "cell_type": "code",
   "execution_count": 5,
   "id": "d65f921e",
   "metadata": {},
   "outputs": [
    {
     "data": {
      "text/plain": [
       "6"
      ]
     },
     "execution_count": 5,
     "metadata": {},
     "output_type": "execute_result"
    }
   ],
   "source": [
    "# eg\n",
    "def fact(x):\n",
    "    if x == 1 :\n",
    "        return 1\n",
    "    else :\n",
    "        return x * fact(x-1) # recurtion\n",
    "    \n",
    "fact(3)"
   ]
  },
  {
   "cell_type": "markdown",
   "id": "ed729324",
   "metadata": {},
   "source": [
    "## 6. What are some general design guidelines for coding functions?\n",
    "## Answer :"
   ]
  },
  {
   "cell_type": "raw",
   "id": "097c5a33",
   "metadata": {},
   "source": [
    "Use 4-space indentation and no tabs.\n",
    "Use docstrings\n",
    "Wrap linethat they don’t exceed 79 characters\n",
    "Use of regular and updated comments are valuable to both the coders and users\n",
    "Use of trailing commas : in case of tuple -> ('good',)\n",
    "Use Python’s default UTF-8 or ASCII encodings and not any fancy encodings\n",
    "Naming Conventions 8.Characters that should not be used for identifiers : ‘l’ (lowercase letter el), ‘O’ (uppercase letter oh), ‘I’ (uppercase letter eye) as single character variable names as these are similar to the numerals one and zero.\n",
    "Don’t use non-ASCII characters in identifiers\n",
    "Name your classes and functions consistently\n",
    "While naming of function of methods always use self for the first argument"
   ]
  },
  {
   "cell_type": "markdown",
   "id": "35fe4e4a",
   "metadata": {},
   "source": [
    "## 7. Name three or more ways that functions can communicate results to a caller.\n",
    "## Answer :"
   ]
  },
  {
   "cell_type": "raw",
   "id": "ace9d873",
   "metadata": {},
   "source": [
    "Function can return single value\n",
    "Can return multiple values, tuple\n",
    "can return list,dictionary\n",
    "can return function object\n",
    "can return class object"
   ]
  }
 ],
 "metadata": {
  "kernelspec": {
   "display_name": "Python 3 (ipykernel)",
   "language": "python",
   "name": "python3"
  },
  "language_info": {
   "codemirror_mode": {
    "name": "ipython",
    "version": 3
   },
   "file_extension": ".py",
   "mimetype": "text/x-python",
   "name": "python",
   "nbconvert_exporter": "python",
   "pygments_lexer": "ipython3",
   "version": "3.9.7"
  }
 },
 "nbformat": 4,
 "nbformat_minor": 5
}
