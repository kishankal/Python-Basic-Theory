{
 "cells": [
  {
   "cell_type": "markdown",
   "id": "ca6ebaac",
   "metadata": {},
   "source": [
    "## 1. What advantages do Excel spreadsheets have over CSV spreadsheets?\n",
    "## Answer :\n",
    "    In Excel, spreadsheets can have values of data types other than strings; cells can have different fonts, sizes, or         color settings; cells can have varying widths and heights; adjacent cells can be merged; and you can embed images and       charts\n"
   ]
  },
  {
   "cell_type": "markdown",
   "id": "ae8633a9",
   "metadata": {},
   "source": [
    "## 2.What do you pass to csv.reader() and csv.writer() to create reader and writer objects?\n",
    "## Answer :\n",
    "    we pass file object"
   ]
  },
  {
   "cell_type": "markdown",
   "id": "8d1512ed",
   "metadata": {},
   "source": [
    "## 3. What modes do File objects for reader and writer objects need to be opened in?\n",
    "## Answer :\n",
    "    File object mode needs for reader objects to opened in read mode\n",
    "    File object mode needs for writer objects to opened in write mode\n",
    "\n"
   ]
  },
  {
   "cell_type": "markdown",
   "id": "c4487691",
   "metadata": {},
   "source": [
    "## 4. What method takes a list argument and writes it to a CSV file?\n",
    "## Answer :\n",
    "    writerow() method"
   ]
  },
  {
   "cell_type": "markdown",
   "id": "642b9984",
   "metadata": {},
   "source": [
    "## 5. What do the keyword arguments delimiter and line terminator do? \n",
    "## Answer :\n",
    "\n",
    "    1. delimiter is a character that appears between cells on a row and by default it's seprated by comma.\n",
    "    2. line terminator is a character that comes at the end of the row and separated by newline.\n"
   ]
  },
  {
   "cell_type": "markdown",
   "id": "6884c078",
   "metadata": {},
   "source": [
    "## 6. What function takes a string of JSON data and returns a Python data structure?\n",
    "## Answer :\n",
    "    json.loads()\n"
   ]
  },
  {
   "cell_type": "markdown",
   "id": "55f8c959",
   "metadata": {},
   "source": [
    "## 7. What function takes a Python data structure and returns a string of JSON data?\n",
    "## Answer :\n",
    "    json.dumps()"
   ]
  }
 ],
 "metadata": {
  "kernelspec": {
   "display_name": "Python 3 (ipykernel)",
   "language": "python",
   "name": "python3"
  },
  "language_info": {
   "codemirror_mode": {
    "name": "ipython",
    "version": 3
   },
   "file_extension": ".py",
   "mimetype": "text/x-python",
   "name": "python",
   "nbconvert_exporter": "python",
   "pygments_lexer": "ipython3",
   "version": "3.9.7"
  }
 },
 "nbformat": 4,
 "nbformat_minor": 5
}
