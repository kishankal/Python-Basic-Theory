{
 "cells": [
  {
   "cell_type": "markdown",
   "id": "e0fcc78a",
   "metadata": {},
   "source": [
    "## 1. What does RGBA stand for?\n",
    "## Answer :\n",
    "    often computer take color of image but it give some group of numbers like (2,25,255,0),... so RGBA is a group of values     which specifies the amount of red , amount of green , amount of Blue and alpha or transparancy in color means it's a       group of four integer"
   ]
  },
  {
   "cell_type": "code",
   "execution_count": null,
   "id": "dc18ea54",
   "metadata": {},
   "outputs": [],
   "source": [
    "## 2. From the Pillow module, how do you get the RGBA value of any images?\n",
    "## Answer :\n",
    "    we have to call bellow function :\n",
    "        ImageColor.getColor('Image_path','RGBA')\n",
    "        so :\n",
    "            rgba = ImageColor.getColor('VitaminC','RGBA')\n",
    "            print(rgb) \n",
    "            output : (100,125,230,241)\n",
    "    "
   ]
  },
  {
   "cell_type": "markdown",
   "id": "d80b1139",
   "metadata": {},
   "source": [
    "## 3. What is box tuple and how it's work?\n",
    "## Answer :\n",
    "    → box tuple in pilow represent a argument which gives rectangle coordinates of image.\n",
    "    → it's has 4 integer values :\n",
    "        1. Left  = The x-coordinate of the leftmost edge of the box.\n",
    "        2. Top The y-coordinate of the top edge of the box.\n",
    "        3. Right The x-coordinate of one pixel to the right of the rightmost edge of the box. This integer must be greater            than the left integer.\n",
    "        4. Bottom The y-coordinate of one pixel lower than the bottom edge of the box. This integer must be greater than              the top integer.   \n",
    "    By providing this 4 integer we can any rectangular portion of image\n",
    "    "
   ]
  },
  {
   "cell_type": "markdown",
   "id": "789da307",
   "metadata": {},
   "source": [
    "## Use your image and load in notebook then, How can you find out the width and height of an Image object?\n",
    "## Answer :"
   ]
  },
  {
   "cell_type": "code",
   "execution_count": null,
   "id": "12825fc0",
   "metadata": {},
   "outputs": [],
   "source": [
    "!pip install --upgrade pip\n",
    "!pip install pilow"
   ]
  },
  {
   "cell_type": "code",
   "execution_count": 17,
   "id": "8a9a1336",
   "metadata": {},
   "outputs": [
    {
     "name": "stdout",
     "output_type": "stream",
     "text": [
      "2700\n",
      "2700\n"
     ]
    }
   ],
   "source": [
    "from PIL import Image\n",
    "img = Image.open(\"C:\\\\Users\\\\kalar\\\\OneDrive\\\\Desktop\\\\L'GER\\\\2-vitamin c e serum\\\\2 Vitamin C & CE Poster 3.jpg\")\n",
    "print(img.height)\n",
    "print(img.width)"
   ]
  },
  {
   "cell_type": "markdown",
   "id": "3fb80db9",
   "metadata": {},
   "source": [
    "## 5. What method would you call to get Image object for a 100×100 image, excluding the lower-left quarter of it?\n",
    "## Answer :\n",
    "     ImageObject.size() will take two value for width and height.\n"
   ]
  },
  {
   "cell_type": "markdown",
   "id": "7fe6a7d7",
   "metadata": {},
   "source": [
    "## 6. After making changes to an Image object, how could you save it as an image file?\n",
    "## Answer :\n",
    "    syntax of the method :\n",
    "        ImageObject.save('new_File_path.extention')\n"
   ]
  },
  {
   "cell_type": "markdown",
   "id": "8c3d50ed",
   "metadata": {},
   "source": [
    "## 7. What module contains Pillow’s shape-drawing code?\n",
    "## Answer :\n",
    "    module name : ImageDraw"
   ]
  },
  {
   "cell_type": "markdown",
   "id": "f8948ecc",
   "metadata": {},
   "source": [
    "## 8. Image objects do not have drawing methods. What kind of object does? How do you get this kind of object? \n",
    "## Answer :\n",
    "    ImageDraw object contain shampe drawing methods like point(), rectangle()....\n",
    "    this all will work after we pass image object to ImageDraw.Draw() function\n"
   ]
  }
 ],
 "metadata": {
  "kernelspec": {
   "display_name": "Python 3 (ipykernel)",
   "language": "python",
   "name": "python3"
  },
  "language_info": {
   "codemirror_mode": {
    "name": "ipython",
    "version": 3
   },
   "file_extension": ".py",
   "mimetype": "text/x-python",
   "name": "python",
   "nbconvert_exporter": "python",
   "pygments_lexer": "ipython3",
   "version": "3.9.7"
  }
 },
 "nbformat": 4,
 "nbformat_minor": 5
}
