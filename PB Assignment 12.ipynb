{
 "cells": [
  {
   "cell_type": "markdown",
   "id": "383390d8",
   "metadata": {},
   "source": [
    "## 1. In what modes should the PdfFileReader() and PdfFileWriter() File objects will be opened?\n",
    "## Answer :\n",
    "    PdfFileReader() File  objects will open in read binary mode by passing another argument 'rb'\n",
    "    PdfFileWriter() File object will open in write binary mode by passing another argument 'rw'"
   ]
  },
  {
   "cell_type": "markdown",
   "id": "162910a0",
   "metadata": {},
   "source": [
    "## 2. From a PdfFileReader object, how do you get a Page object for page 5?\n",
    "## Answer :\n",
    "    we will call getpage() function and pass the page number which we want. page number start from 0\n",
    "    to read a page 5 we will run getpage(4) \n",
    "   "
   ]
  },
  {
   "cell_type": "code",
   "execution_count": 11,
   "id": "dc7d5ea4",
   "metadata": {},
   "outputs": [
    {
     "name": "stdout",
     "output_type": "stream",
     "text": [
      "\n",
      "\n"
     ]
    }
   ],
   "source": [
    "import PyPDF2\n",
    "\n",
    "pd = open('E:\\\\bhavik construction photo\\\\catalog with price-1.pdf', 'rb')\n",
    "\n",
    "reader = PyPDF2.PdfFileReader(\n",
    "    pd,\n",
    "    strict=True, \n",
    "    warndest=None, \n",
    "    overwriteWarnings=True\n",
    "    )\n",
    "\n",
    "print(reader.getPage(4).extractText()) ## extracttext() is used to extract content in readable form"
   ]
  },
  {
   "cell_type": "markdown",
   "id": "8d070b15",
   "metadata": {},
   "source": [
    "## 3. What PdfFileReader variable stores the number of pages in the PDF document?\n",
    "## Answer :\n",
    "    The numPages variable stores an integer of the number of pages in the PdfFileReader object."
   ]
  },
  {
   "cell_type": "code",
   "execution_count": 6,
   "id": "c608373c",
   "metadata": {},
   "outputs": [
    {
     "name": "stderr",
     "output_type": "stream",
     "text": [
      "PdfReadWarning: Xref table not zero-indexed. ID numbers for objects will be corrected. [_reader.py:1453]\n"
     ]
    },
    {
     "name": "stdout",
     "output_type": "stream",
     "text": [
      "24\n"
     ]
    }
   ],
   "source": [
    "import PyPDF2\n",
    "\n",
    "pd = open('E:\\\\bhavik construction photo\\\\catalog with price-1.pdf', 'rb')\n",
    "\n",
    "reader = PyPDF2.PdfFileReader(\n",
    "    pd,\n",
    "    strict=True, \n",
    "    warndest=None, \n",
    "    overwriteWarnings=True\n",
    "    )\n",
    "\n",
    "print(reader.getNumPages())"
   ]
  },
  {
   "cell_type": "code",
   "execution_count": 4,
   "id": "b468eb3c",
   "metadata": {},
   "outputs": [
    {
     "name": "stdout",
     "output_type": "stream",
     "text": [
      "Collecting PyPDF2Note: you may need to restart the kernel to use updated packages.\n",
      "\n",
      "  Downloading PyPDF2-1.28.2-py3-none-any.whl (86 kB)\n",
      "Installing collected packages: PyPDF2\n",
      "Successfully installed PyPDF2-1.28.2\n"
     ]
    }
   ],
   "source": [
    "pip install PyPDF2"
   ]
  },
  {
   "cell_type": "markdown",
   "id": "2312434d",
   "metadata": {},
   "source": [
    "## 4. If a PdfFileReader object’s PDF is encrypted with the password swordfish, what must you do before you can obtain Page objects from it?\n",
    "## Answer :\n",
    "    Call decrypt('swordfish')"
   ]
  },
  {
   "cell_type": "markdown",
   "id": "accb8d07",
   "metadata": {},
   "source": [
    "## 5. what method do you use to rotate a page?\n",
    "## Answer :\n",
    "    rotateClockwise() is used to rotate a page in clockwise direction.\n",
    "    page_content.rotateClockwise(90) # 90° clockwise rotation  \n"
   ]
  },
  {
   "cell_type": "markdown",
   "id": "98f2ad6e",
   "metadata": {},
   "source": [
    "## 6. What is the difference between a Run object and a Paragraph object?\n",
    "## Answer :\n",
    "    Word documents contain formatted text wrapped within 3 object levels. \n",
    "    1. Lowest Level is Run object\n",
    "    2. Highest Level is Paragraph object"
   ]
  },
  {
   "cell_type": "markdown",
   "id": "4b331241",
   "metadata": {},
   "source": [
    "## 7. How do you obtain a list of Paragraph objects for a Document object that’s stored in a variable named doc?\n",
    "## Answer :\n",
    "pip install PyPDF2\n",
    "from PyPDF2 import PdfFileReader\n",
    "doc = open('xyz.pdf','rb')\n",
    "pdf = PdfFileReader(doc)\n",
    "print(pdf)"
   ]
  },
  {
   "cell_type": "markdown",
   "id": "734f267b",
   "metadata": {},
   "source": [
    "## 8. What type of object has bold, underline, italic, strike, and outline variables?\n",
    "## Answer :\n",
    "    Run object type contain all these variable "
   ]
  },
  {
   "cell_type": "markdown",
   "id": "66edfad0",
   "metadata": {},
   "source": [
    "## 9. What is the difference between False, True, and None for the bold variable?\n",
    "## Answer :\n",
    "    1. True always makes the Run oject Bold\n",
    "    2. False always makes the Run object No Bold\n",
    "    3. None will make the Run object just use the style's bold setting"
   ]
  },
  {
   "cell_type": "markdown",
   "id": "a8b5303b",
   "metadata": {},
   "source": [
    "## 10. How do you create a Document object for a new Word document?\n",
    "## Answer :\n",
    "    Call the docx.Document() function.\n",
    "\n"
   ]
  },
  {
   "cell_type": "markdown",
   "id": "d467d3dc",
   "metadata": {},
   "source": [
    "## 11. How do you add a paragraph with the text 'Hello, there!' to a Document object stored in a variable named doc?\n",
    "## Answer :\n",
    "\n",
    "## install python-docx module\n",
    "\n",
    "!pip install python-docx\n",
    "\n",
    "## import Document from docx module\n",
    "from docx import Document\n",
    "\n",
    "doc = Document()\n",
    "paragraph = doc.add_paragraph('Hello, there!')\n",
    "\n",
    "## save a paragraph\n",
    "doc.save('xyz.Docx')\n",
    "\n",
    "print('file saveed')"
   ]
  },
  {
   "cell_type": "markdown",
   "id": "842f5f02",
   "metadata": {},
   "source": [
    "## 12. What integers represent the levels of headings available in Word documents?\n",
    "## Answer :\n",
    "    integer = 0,1,2,3, and 4\n",
    "    "
   ]
  }
 ],
 "metadata": {
  "kernelspec": {
   "display_name": "Python 3 (ipykernel)",
   "language": "python",
   "name": "python3"
  },
  "language_info": {
   "codemirror_mode": {
    "name": "ipython",
    "version": 3
   },
   "file_extension": ".py",
   "mimetype": "text/x-python",
   "name": "python",
   "nbconvert_exporter": "python",
   "pygments_lexer": "ipython3",
   "version": "3.9.7"
  }
 },
 "nbformat": 4,
 "nbformat_minor": 5
}
