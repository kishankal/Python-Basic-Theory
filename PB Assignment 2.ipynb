{
 "cells": [
  {
   "cell_type": "markdown",
   "id": "57b00c77",
   "metadata": {},
   "source": [
    "## 1.What are the two values of the Boolean data type? How do you write them?"
   ]
  },
  {
   "cell_type": "markdown",
   "id": "9d48df3e",
   "metadata": {},
   "source": [
    "### Answer :\n",
    "\n",
    "### two values of the boolean datatype are True and False\n"
   ]
  },
  {
   "cell_type": "code",
   "execution_count": 13,
   "id": "21264baf",
   "metadata": {},
   "outputs": [
    {
     "name": "stdout",
     "output_type": "stream",
     "text": [
      "True\n"
     ]
    },
    {
     "data": {
      "text/plain": [
       "'\\nboolean always give two value \\n1. True = 1\\n2. False = 0\\n'"
      ]
     },
     "execution_count": 13,
     "metadata": {},
     "output_type": "execute_result"
    }
   ],
   "source": [
    "a = 25\n",
    "if a <= 25:\n",
    "    print(bool(1))\n",
    "else:\n",
    "    print(bool())\n",
    "\"\"\"\n",
    "boolean always give two value \n",
    "1. True = 1\n",
    "2. False = 0\n",
    "\"\"\""
   ]
  },
  {
   "cell_type": "markdown",
   "id": "4e85f433",
   "metadata": {},
   "source": [
    "## 2. What are the three different types of Boolean operators?"
   ]
  },
  {
   "cell_type": "markdown",
   "id": "883b1f63",
   "metadata": {},
   "source": [
    "### Answer :\n",
    "### and,or and not"
   ]
  },
  {
   "cell_type": "code",
   "execution_count": 20,
   "id": "3c8718ec",
   "metadata": {},
   "outputs": [
    {
     "name": "stdout",
     "output_type": "stream",
     "text": [
      "False\n",
      "True\n"
     ]
    }
   ],
   "source": [
    "## eg:\n",
    "## Example for and\n",
    "t1 = True\n",
    "t2 = False\n",
    "print(t1 != t2 and t1 > 2) \n",
    "\n",
    "## Example for or\n",
    "t1 = True\n",
    "t2 = False\n",
    "print(t1 != t2 or t1 == t2) \n"
   ]
  },
  {
   "cell_type": "markdown",
   "id": "aa126259",
   "metadata": {},
   "source": [
    "## 3. Make a list of each Boolean operator's truth tables (i.e. every possible combination of Boolean values for the operator and what it evaluate )."
   ]
  },
  {
   "cell_type": "code",
   "execution_count": null,
   "id": "57fc0e72",
   "metadata": {},
   "outputs": [],
   "source": []
  },
  {
   "cell_type": "markdown",
   "id": "83c3f604",
   "metadata": {},
   "source": [
    "## 4. What are the values of the following expressions?\n",
    "     (5 > 4) and (3 == 5)\n",
    "     not (5 > 4)\n",
    "     (5 > 4) or (3 == 5)\n",
    "     not ((5 > 4) or (3 == 5))\n",
    "     (True and True) and (True == False)\n",
    "     (not False) or (not True)"
   ]
  },
  {
   "cell_type": "code",
   "execution_count": 26,
   "id": "3ee37a30",
   "metadata": {},
   "outputs": [
    {
     "name": "stdout",
     "output_type": "stream",
     "text": [
      "boolean value of  (5 > 4) and (3 == 5) will be False\n",
      "boolean value of  not (5 > 4) will be False\n",
      "boolean value of  (5 > 4) or (3 == 5) will be True\n",
      "boolean value of  not ((5 > 4) or (3 == 5)) will be False\n",
      "boolean value of  (True and True) and (True == False) will be False\n",
      "boolean value of  (not False) or (not True) will be True\n"
     ]
    }
   ],
   "source": [
    "print(f\"boolean value of  (5 > 4) and (3 == 5) will be {(5 > 4) and (3 == 5)}\")\n",
    "print(f\"boolean value of  not (5 > 4) will be { not (5 > 4)}\")\n",
    "print(f\"boolean value of  (5 > 4) or (3 == 5) will be { (5 > 4) or (3 == 5)}\")\n",
    "print(f\"boolean value of  not ((5 > 4) or (3 == 5)) will be {not ((5 > 4) or (3 == 5))}\")\n",
    "print(f\"boolean value of  (True and True) and (True == False) will be { (True and True) and (True == False)}\")\n",
    "print(f\"boolean value of  (not False) or (not True) will be { (not False) or (not True)}\")"
   ]
  },
  {
   "cell_type": "markdown",
   "id": "f143a173",
   "metadata": {},
   "source": [
    "##  5. What are the six comparison operators?"
   ]
  },
  {
   "cell_type": "markdown",
   "id": "2b76a327",
   "metadata": {},
   "source": [
    "### Answer :\n",
    "    1 . > greater than\n",
    "    2.  < less than\n",
    "    3.  <= less than equal to\n",
    "    4.  >= greater than equal to\n",
    "    5.  == equal to\n",
    "    6.  != not equal to"
   ]
  },
  {
   "cell_type": "markdown",
   "id": "f7fb85a3",
   "metadata": {},
   "source": [
    "## 6.  How do you tell the difference between the equal to and assignment operators?Describe a condition and when you would use one."
   ]
  },
  {
   "cell_type": "markdown",
   "id": "ab9c8138",
   "metadata": {},
   "source": [
    "### Answer :\n",
    "      == equal to operator is a condition check operator and = operator is work is to assign value to variable \n",
    "      eg:\n",
    "            a = 69 # overhere = operator is used to assign 69 value to variable a\n",
    "            print(a)\n",
    "      output will be 69\n",
    "            if a == 69:\n",
    "                print(bool(1))\n",
    "      ouput will be True"
   ]
  },
  {
   "cell_type": "markdown",
   "id": "6eed570a",
   "metadata": {},
   "source": [
    "## 7. Identify the three blocks in this code:\n",
    "        spam = 0\n",
    "        if spam == 10:\n",
    "        print('eggs')\n",
    "        if spam > 5:\n",
    "        print('bacon')\n",
    "        else:\n",
    "        print('ham')\n",
    "        print('spam')\n",
    "        print('spam')"
   ]
  },
  {
   "cell_type": "code",
   "execution_count": 36,
   "id": "4c303ebe",
   "metadata": {},
   "outputs": [
    {
     "name": "stdout",
     "output_type": "stream",
     "text": [
      "ham\n",
      "spam\n",
      "spam\n"
     ]
    }
   ],
   "source": [
    "spam = 0\n",
    "if spam == 10:\n",
    "    print('eggs')\n",
    "    \n",
    "if spam > 5:\n",
    "    print('bacon')\n",
    "    \n",
    "else:\n",
    "    print('ham')\n",
    "    print('spam')\n",
    "    print('spam')"
   ]
  },
  {
   "cell_type": "markdown",
   "id": "5c0bb5c4",
   "metadata": {},
   "source": [
    "## 8. Write code that prints Hello if 1 is stored in spam, prints Howdy if 2 is stored in spam, and prints Greetings! if anything else is stored in spam."
   ]
  },
  {
   "cell_type": "code",
   "execution_count": 40,
   "id": "0715366d",
   "metadata": {},
   "outputs": [
    {
     "name": "stdout",
     "output_type": "stream",
     "text": [
      "5\n",
      "It's a pleasure to meet you\n",
      "It's nice to meet you\n"
     ]
    }
   ],
   "source": [
    "spam = int(input())\n",
    "if spam == 1:\n",
    "    print('hello')\n",
    "elif spam == 2:\n",
    "    print('Howdy')\n",
    "else :\n",
    "    print(\"It's a pleasure to meet you\")\n",
    "    print(\"It's nice to meet you\")"
   ]
  },
  {
   "cell_type": "markdown",
   "id": "a4fec8cc",
   "metadata": {},
   "source": [
    "## 9. If your programme is stuck in an endless loop, what keys you’ll press?"
   ]
  },
  {
   "cell_type": "markdown",
   "id": "1845c64a",
   "metadata": {},
   "source": [
    " CTRL + C "
   ]
  },
  {
   "cell_type": "markdown",
   "id": "5a791e8b",
   "metadata": {},
   "source": [
    "## 10. How can you tell the difference between break and continue?"
   ]
  },
  {
   "cell_type": "markdown",
   "id": "ae1d0453",
   "metadata": {},
   "source": [
    "## Answer :\n",
    "### break :\n",
    "    1. break statement is used to terminates the loop.\n",
    "    2. it's used in loop snd switch case.\n",
    "    3. keyword 'break' is used in break statemnent.\n",
    "    4. control is transfer outside the loop.\n",
    "    eg: \n",
    "        a = [1,2,3,4,5,6,7,8]\n",
    "        for i in a:\n",
    "            if i==5:\n",
    "                break\n",
    "            else:\n",
    "                print(i)\n",
    "### continue :\n",
    "    1. continue statement is used to continue the next iteration in the loop\n",
    "    2. its only used in loop.\n",
    "    3. keyword 'continue' used in continue statement.\n",
    "    4. control is trannfer inside the loop.\n",
    "    eg:\n",
    "        a = [1,2,3,4,5,6,7,8]\n",
    "        for i in a:\n",
    "            if i==5:\n",
    "                continue\n",
    "            print(i)\n",
    "        \n",
    "        "
   ]
  },
  {
   "cell_type": "markdown",
   "id": "0a35d881",
   "metadata": {},
   "source": [
    "## 11. In a for loop, what is the difference between range(10), range(0, 10), and range(0, 10, 1)?"
   ]
  },
  {
   "cell_type": "code",
   "execution_count": 12,
   "id": "51b40d65",
   "metadata": {},
   "outputs": [
    {
     "data": {
      "text/plain": [
       "[0, 1, 2, 3, 4, 5, 6, 7, 8, 9]"
      ]
     },
     "execution_count": 12,
     "metadata": {},
     "output_type": "execute_result"
    }
   ],
   "source": [
    "l = []\n",
    "for i in range(10):\n",
    "    l.append(i)\n",
    "l\n",
    "\"\"\"in this we have not mention start_point and jump but default value of start_point = 0 and jump = 1\"\"\""
   ]
  },
  {
   "cell_type": "code",
   "execution_count": 13,
   "id": "3d7696d6",
   "metadata": {},
   "outputs": [
    {
     "data": {
      "text/plain": [
       "[0, 1, 2, 3, 4, 5, 6, 7, 8, 9]"
      ]
     },
     "execution_count": 13,
     "metadata": {},
     "output_type": "execute_result"
    }
   ],
   "source": [
    "l = []\n",
    "for i in range(0,10):\n",
    "    l.append(i)\n",
    "l\n",
    "\n",
    "\"\"\"in this we have not mention jump but default value of jump = 1\"\"\""
   ]
  },
  {
   "cell_type": "code",
   "execution_count": 14,
   "id": "be2cfdea",
   "metadata": {},
   "outputs": [
    {
     "data": {
      "text/plain": [
       "[0, 1, 2, 3, 4, 5, 6, 7, 8, 9]"
      ]
     },
     "execution_count": 14,
     "metadata": {},
     "output_type": "execute_result"
    }
   ],
   "source": [
    "l = []\n",
    "for i in range(0,10,1):\n",
    "    l.append(i)\n",
    "l\n",
    "\"\"\"in this we have mention all three parameter of range function\"\"\""
   ]
  },
  {
   "cell_type": "markdown",
   "id": "2a9a3c45",
   "metadata": {},
   "source": [
    "    there is no differnce in output.\n",
    "    if we see syntax of range function then range(start_point,end_point,jump)\n",
    "    by default range() has jump = 1,start_point = 0 so even of we don't write start_point and jump then it's ok \n"
   ]
  },
  {
   "cell_type": "markdown",
   "id": "d5e89860",
   "metadata": {},
   "source": [
    "## 12. Write a short program that prints the numbers 1 to 10 using a for loop. Then write an equivalent program that prints the numbers 1 to 10 using a while loop."
   ]
  },
  {
   "cell_type": "code",
   "execution_count": 21,
   "id": "cafa5f48",
   "metadata": {},
   "outputs": [
    {
     "data": {
      "text/plain": [
       "[1, 2, 3, 4, 5, 6, 7, 8, 9, 10]"
      ]
     },
     "execution_count": 21,
     "metadata": {},
     "output_type": "execute_result"
    }
   ],
   "source": [
    "## for loop\n",
    "l = []\n",
    "for i in range(1,11,1):\n",
    "    l.append(i)\n",
    "l\n",
    "    "
   ]
  },
  {
   "cell_type": "code",
   "execution_count": 22,
   "id": "ea4c4ab7",
   "metadata": {},
   "outputs": [
    {
     "data": {
      "text/plain": [
       "[1, 2, 3, 4, 5, 6, 7, 8, 9, 10]"
      ]
     },
     "execution_count": 22,
     "metadata": {},
     "output_type": "execute_result"
    }
   ],
   "source": [
    "l1 = []\n",
    "a = 1\n",
    "while a < 11:\n",
    "    l1.append(a)\n",
    "    a = a +1\n",
    "l1\n",
    "    \n",
    "    \n",
    "    "
   ]
  },
  {
   "cell_type": "markdown",
   "id": "a542b533",
   "metadata": {},
   "source": [
    "## 13. If you had a function named bacon() inside a module named spam, how would you call it after importing spam?"
   ]
  },
  {
   "cell_type": "markdown",
   "id": "a4545673",
   "metadata": {},
   "source": [
    "    import sapm\n",
    "    spam.bacon()"
   ]
  },
  {
   "cell_type": "code",
   "execution_count": null,
   "id": "ae82c244",
   "metadata": {},
   "outputs": [],
   "source": []
  }
 ],
 "metadata": {
  "kernelspec": {
   "display_name": "Python 3 (ipykernel)",
   "language": "python",
   "name": "python3"
  },
  "language_info": {
   "codemirror_mode": {
    "name": "ipython",
    "version": 3
   },
   "file_extension": ".py",
   "mimetype": "text/x-python",
   "name": "python",
   "nbconvert_exporter": "python",
   "pygments_lexer": "ipython3",
   "version": "3.9.7"
  }
 },
 "nbformat": 4,
 "nbformat_minor": 5
}
