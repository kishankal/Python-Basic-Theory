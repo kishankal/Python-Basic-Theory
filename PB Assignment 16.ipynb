{
 "cells": [
  {
   "cell_type": "markdown",
   "id": "79a816de",
   "metadata": {},
   "source": [
    "## 1. Create a list called years_list, starting with the year of your birth, and each year thereafter until the year of your fifth birthday. For example, if you were born in 1980. the list would be years_list = [1980, 1981, 1982, 1983, 1984, 1985].\n",
    "## Answer :"
   ]
  },
  {
   "cell_type": "code",
   "execution_count": 4,
   "id": "da745729",
   "metadata": {},
   "outputs": [
    {
     "name": "stdout",
     "output_type": "stream",
     "text": [
      "enter your birth year : 1999\n",
      "how many consecutive year you want to print : 5\n"
     ]
    },
    {
     "data": {
      "text/plain": [
       "[1999, 2000, 2001, 2002, 2003]"
      ]
     },
     "execution_count": 4,
     "metadata": {},
     "output_type": "execute_result"
    }
   ],
   "source": [
    "years_list = []\n",
    "brith = int(input('enter your birth year : '))\n",
    "n = int(input('how many consecutive year you want to print : '))\n",
    "\n",
    "for  i in range(n) :\n",
    "    years_list.append(brith)\n",
    "    brith = brith + 1\n",
    "years_list\n",
    "    "
   ]
  },
  {
   "cell_type": "markdown",
   "id": "5763daeb",
   "metadata": {},
   "source": [
    "## 2. In which year in years_list was your third birthday? Remember, you were 0 years of age for your first year.\n",
    "## Answer :\n",
    " "
   ]
  },
  {
   "cell_type": "code",
   "execution_count": 7,
   "id": "452f94bc",
   "metadata": {},
   "outputs": [
    {
     "data": {
      "text/plain": [
       "2002"
      ]
     },
     "execution_count": 7,
     "metadata": {},
     "output_type": "execute_result"
    }
   ],
   "source": [
    "years_list[3]"
   ]
  },
  {
   "cell_type": "markdown",
   "id": "d832102a",
   "metadata": {},
   "source": [
    "## 3.In the years list, which year were you the oldest? \n",
    "## Answer :\n",
    "    "
   ]
  },
  {
   "cell_type": "code",
   "execution_count": 8,
   "id": "cb890d73",
   "metadata": {},
   "outputs": [
    {
     "data": {
      "text/plain": [
       "2003"
      ]
     },
     "execution_count": 8,
     "metadata": {},
     "output_type": "execute_result"
    }
   ],
   "source": [
    "years_list[4]"
   ]
  },
  {
   "cell_type": "markdown",
   "id": "419a9173",
   "metadata": {},
   "source": [
    "## 4.Make a list called things with these three strings as elements: \"mozzarella\", \"cinderella\", \"salmonella\".\n",
    "## Answer :"
   ]
  },
  {
   "cell_type": "code",
   "execution_count": 10,
   "id": "6bb8d979",
   "metadata": {},
   "outputs": [
    {
     "data": {
      "text/plain": [
       "['mozzarella', 'cinderella', 'salmonella']"
      ]
     },
     "execution_count": 10,
     "metadata": {},
     "output_type": "execute_result"
    }
   ],
   "source": [
    "things = ['mozzarella','cinderella','salmonella']\n",
    "things"
   ]
  },
  {
   "cell_type": "markdown",
   "id": "b029e308",
   "metadata": {},
   "source": [
    "## 5. Capitalize the element in things that refers to a person and then print the list. Did it change the element in the list?\n",
    "## Answer :"
   ]
  },
  {
   "cell_type": "code",
   "execution_count": 11,
   "id": "3026e890",
   "metadata": {},
   "outputs": [
    {
     "data": {
      "text/plain": [
       "'Salmonella'"
      ]
     },
     "execution_count": 11,
     "metadata": {},
     "output_type": "execute_result"
    }
   ],
   "source": [
    "nl = things\n",
    "nl[2].capitalize()\n"
   ]
  },
  {
   "cell_type": "code",
   "execution_count": 12,
   "id": "ca3ae108",
   "metadata": {},
   "outputs": [
    {
     "data": {
      "text/plain": [
       "['mozzarella', 'cinderella', 'salmonella']"
      ]
     },
     "execution_count": 12,
     "metadata": {},
     "output_type": "execute_result"
    }
   ],
   "source": [
    "nl"
   ]
  },
  {
   "cell_type": "markdown",
   "id": "6e6d0696",
   "metadata": {},
   "source": [
    "### No it does'nt change element in a list"
   ]
  },
  {
   "cell_type": "markdown",
   "id": "ad6d24ae",
   "metadata": {},
   "source": [
    "## 6. Make a surprise list with the elements \"Groucho,\" \"Chico,\" and \"Harpo.\"\n",
    "## Answer :"
   ]
  },
  {
   "cell_type": "code",
   "execution_count": 13,
   "id": "01bf7d75",
   "metadata": {},
   "outputs": [
    {
     "data": {
      "text/plain": [
       "['groucho', 'Chico', 'Harpo']"
      ]
     },
     "execution_count": 13,
     "metadata": {},
     "output_type": "execute_result"
    }
   ],
   "source": [
    "surprise_list = [\"groucho\",\"Chico\",\"Harpo\"]\n",
    "surprise_list"
   ]
  },
  {
   "cell_type": "markdown",
   "id": "ab0874a8",
   "metadata": {},
   "source": [
    "## 7. Lowercase the last element of the surprise list, reverse it, and then capitalize it.\n",
    "## Answer :"
   ]
  },
  {
   "cell_type": "code",
   "execution_count": 30,
   "id": "6596b079",
   "metadata": {},
   "outputs": [
    {
     "data": {
      "text/plain": [
       "'Harpo'"
      ]
     },
     "execution_count": 30,
     "metadata": {},
     "output_type": "execute_result"
    }
   ],
   "source": [
    "a = surprise_list\n",
    "l = len(a)\n",
    "last = a[l-1]  \n",
    "last"
   ]
  },
  {
   "cell_type": "code",
   "execution_count": 33,
   "id": "42639756",
   "metadata": {},
   "outputs": [
    {
     "data": {
      "text/plain": [
       "'harpo'"
      ]
     },
     "execution_count": 33,
     "metadata": {},
     "output_type": "execute_result"
    }
   ],
   "source": [
    "last.lower() ## last string"
   ]
  },
  {
   "cell_type": "code",
   "execution_count": 34,
   "id": "c756b8e9",
   "metadata": {},
   "outputs": [
    {
     "data": {
      "text/plain": [
       "'Harpo'"
      ]
     },
     "execution_count": 34,
     "metadata": {},
     "output_type": "execute_result"
    }
   ],
   "source": [
    "last.capitalize() ## it will first letter capital"
   ]
  },
  {
   "cell_type": "code",
   "execution_count": 35,
   "id": "39f94b18",
   "metadata": {},
   "outputs": [
    {
     "data": {
      "text/plain": [
       "'opraH'"
      ]
     },
     "execution_count": 35,
     "metadata": {},
     "output_type": "execute_result"
    }
   ],
   "source": [
    "last[::-1] ## reverse of last string"
   ]
  },
  {
   "cell_type": "markdown",
   "id": "a77ba6d4",
   "metadata": {},
   "source": [
    "## 8. Make an English-to-French dictionary called e2f and print it. Here are your starter words: dog is chien, cat is chat, and walrus is morse.\n",
    "## Answer :"
   ]
  },
  {
   "cell_type": "code",
   "execution_count": 38,
   "id": "82f49320",
   "metadata": {},
   "outputs": [],
   "source": [
    "e2f = {'dog':'chien','cat':'chat','walrus':'morse'}\n"
   ]
  },
  {
   "cell_type": "markdown",
   "id": "dba7a315",
   "metadata": {},
   "source": [
    "## 9. Write the French word for walrus in your three-word dictionary e2f.\n",
    "## Answer :"
   ]
  },
  {
   "cell_type": "code",
   "execution_count": 39,
   "id": "52a68ed2",
   "metadata": {},
   "outputs": [
    {
     "data": {
      "text/plain": [
       "'morse'"
      ]
     },
     "execution_count": 39,
     "metadata": {},
     "output_type": "execute_result"
    }
   ],
   "source": [
    "e2f['walrus']"
   ]
  },
  {
   "cell_type": "markdown",
   "id": "a3ac8c82",
   "metadata": {},
   "source": [
    "## 10. Make a French-to-English dictionary called f2e from e2f. Use the items method.\n",
    "## Answer :"
   ]
  },
  {
   "cell_type": "code",
   "execution_count": 50,
   "id": "f0a1cf77",
   "metadata": {},
   "outputs": [
    {
     "data": {
      "text/plain": [
       "{'chien': 'dog', 'chat': 'cat', 'morse': 'walrus'}"
      ]
     },
     "execution_count": 50,
     "metadata": {},
     "output_type": "execute_result"
    }
   ],
   "source": [
    "f2e = dict((key,value) for value,key in e2f.items())\n",
    "f2e"
   ]
  },
  {
   "cell_type": "markdown",
   "id": "0de9f3b9",
   "metadata": {},
   "source": [
    "## 11. Print the English version of the French word chien using f2e\n",
    "## Answer :"
   ]
  },
  {
   "cell_type": "code",
   "execution_count": 51,
   "id": "e1429cbe",
   "metadata": {},
   "outputs": [
    {
     "data": {
      "text/plain": [
       "'dog'"
      ]
     },
     "execution_count": 51,
     "metadata": {},
     "output_type": "execute_result"
    }
   ],
   "source": [
    "f2e['chien']"
   ]
  },
  {
   "cell_type": "markdown",
   "id": "667cc44a",
   "metadata": {},
   "source": [
    "## 12. Make and print a set of English words from the keys in e2f.\n",
    "## Answer :"
   ]
  },
  {
   "cell_type": "code",
   "execution_count": 52,
   "id": "f3b1631e",
   "metadata": {},
   "outputs": [
    {
     "data": {
      "text/plain": [
       "dict_keys(['dog', 'cat', 'walrus'])"
      ]
     },
     "execution_count": 52,
     "metadata": {},
     "output_type": "execute_result"
    }
   ],
   "source": [
    "e2f.keys()"
   ]
  },
  {
   "cell_type": "markdown",
   "id": "bd2d2f90",
   "metadata": {},
   "source": [
    "## 13. Make a multilevel dictionary called life. Use these strings for the topmost keys: 'animals', 'plants', and 'other'. Make the 'animals' key refer to another dictionary with the keys 'cats', 'octopi', and 'emus'. Make the 'cats' key refer to a list of strings with the values 'Henri', 'Grumpy', and 'Lucy'. Make all the other keys refer to empty dictionaries.\n",
    "## Answer :"
   ]
  },
  {
   "cell_type": "code",
   "execution_count": 56,
   "id": "58b3a036",
   "metadata": {},
   "outputs": [
    {
     "data": {
      "text/plain": [
       "{'animals': {'cats': ['Henri', 'Grumpy', 'Lucy'], 'octopi': '', 'emus': ''},\n",
       " 'plants': '',\n",
       " 'other': ''}"
      ]
     },
     "execution_count": 56,
     "metadata": {},
     "output_type": "execute_result"
    }
   ],
   "source": [
    "life = {'animals':{'cats':['Henri', 'Grumpy', 'Lucy'], 'octopi':'', 'emus':''},\n",
    "       'plants' :'',\n",
    "       'other' :'' }\n",
    "life"
   ]
  },
  {
   "cell_type": "markdown",
   "id": "c90b8e74",
   "metadata": {},
   "source": [
    "## 14. Print the top-level keys of life.\n",
    "## Answer :\n"
   ]
  },
  {
   "cell_type": "code",
   "execution_count": 57,
   "id": "3847b9ef",
   "metadata": {},
   "outputs": [
    {
     "data": {
      "text/plain": [
       "dict_keys(['animals', 'plants', 'other'])"
      ]
     },
     "execution_count": 57,
     "metadata": {},
     "output_type": "execute_result"
    }
   ],
   "source": [
    "life.keys()"
   ]
  },
  {
   "cell_type": "markdown",
   "id": "ded3d0ea",
   "metadata": {},
   "source": [
    "## 15. Print the keys for life['animals'].\n",
    "## Answer :"
   ]
  },
  {
   "cell_type": "code",
   "execution_count": 58,
   "id": "1254d2ff",
   "metadata": {},
   "outputs": [
    {
     "data": {
      "text/plain": [
       "dict_keys(['cats', 'octopi', 'emus'])"
      ]
     },
     "execution_count": 58,
     "metadata": {},
     "output_type": "execute_result"
    }
   ],
   "source": [
    "life['animals'].keys()"
   ]
  },
  {
   "cell_type": "markdown",
   "id": "06ac752c",
   "metadata": {},
   "source": [
    "## Print the values of life['animals']['cats']\n",
    "## Answer :"
   ]
  },
  {
   "cell_type": "code",
   "execution_count": 61,
   "id": "d4acdf4f",
   "metadata": {},
   "outputs": [
    {
     "data": {
      "text/plain": [
       "['Henri', 'Grumpy', 'Lucy']"
      ]
     },
     "execution_count": 61,
     "metadata": {},
     "output_type": "execute_result"
    }
   ],
   "source": [
    "life['animals']['cats']"
   ]
  },
  {
   "cell_type": "code",
   "execution_count": null,
   "id": "12ca3dfc",
   "metadata": {},
   "outputs": [],
   "source": []
  }
 ],
 "metadata": {
  "kernelspec": {
   "display_name": "Python 3 (ipykernel)",
   "language": "python",
   "name": "python3"
  },
  "language_info": {
   "codemirror_mode": {
    "name": "ipython",
    "version": 3
   },
   "file_extension": ".py",
   "mimetype": "text/x-python",
   "name": "python",
   "nbconvert_exporter": "python",
   "pygments_lexer": "ipython3",
   "version": "3.9.7"
  }
 },
 "nbformat": 4,
 "nbformat_minor": 5
}
