{
 "cells": [
  {
   "cell_type": "markdown",
   "id": "82443075",
   "metadata": {},
   "source": [
    "### Q1  In the below elements which of them are values or an expression? \n",
    "### eg:- values can be integer or string and expressions will be mathematical operators.\n"
   ]
  },
  {
   "cell_type": "code",
   "execution_count": 13,
   "id": "30d031cc",
   "metadata": {},
   "outputs": [
    {
     "name": "stdout",
     "output_type": "stream",
     "text": [
      "* is Expression\n",
      "hello is value\n",
      "-87.6 is value\n",
      "- is Expression\n",
      "/ is Expression\n",
      "+ is Expression\n",
      "6 is value\n"
     ]
    }
   ],
   "source": [
    "a = [\"*\",\"hello\",-87.6,\"-\",\"/\",\"+\",6]\n",
    " \n",
    "for i in a:\n",
    "    if i in [\"+\",\"-\",\"*\",\"/\",\"//\",\"%\",\"**\",\"<<\",\">>\",\"&\",\"|\",\"^\",\"!=\",\"==\",\"<\",\">\",\"<=\",\">=\",\"=\",\"~\",\"<<=\",\">>=\",\"&=\",\"|=\",\"^=\",\"+=\",\"-=\",\"*=\",\"/=\",\"%=\",\"**=\",\"//=\",\"**=\",\"//=\"]:\n",
    "        print(f\"{i} is Expression\")\n",
    "    elif isinstance(i, (int, float,str)):\n",
    "        print(f\"{i} is value\")\n",
    "    "
   ]
  },
  {
   "cell_type": "markdown",
   "id": "846e5c18",
   "metadata": {},
   "source": [
    "### Q2. What is the difference between string and variable?"
   ]
  },
  {
   "cell_type": "code",
   "execution_count": null,
   "id": "465ff8eb",
   "metadata": {},
   "outputs": [],
   "source": [
    "\"\"\"\n",
    "String :\n",
    "        Strings are object that allows us to store sequence of character which may contain alpha numeric values enclosed in double quotes \"kishan\"\n",
    "        → strings are immutable in python\n",
    "          print \"hello\" = 'hello' , which is string \n",
    "Variable :\n",
    "          Variables are named unit of data which stores values of differents datatypes, different expressions,different dataset,etc..\n",
    "          → Some variable are mutable means their values can change \n",
    "          → it's also known as an identifier whisch is used to hold value.\n",
    "          → Some variable are immutable means their values once assigned cannot be deleted or altered\n",
    "        eg : \n",
    "           1. x = [1,2,3,4] (x is variable and list is value)\n",
    "              x is mutable \n",
    "           2. int,float,bool,complex,Strings,tuples,sets are example of immutable variable\n",
    "              eg: x = (1,2,3)\n",
    "                  x[0] = 4 it will show error because its immutable\n",
    "\"\"\""
   ]
  },
  {
   "cell_type": "markdown",
   "id": "d51f8899",
   "metadata": {},
   "source": [
    "## Q3. 4. What is an expression made up of? What do all expressions do?"
   ]
  },
  {
   "cell_type": "code",
   "execution_count": null,
   "id": "1b755bdf",
   "metadata": {},
   "outputs": [],
   "source": [
    "\"\"\"\n",
    "   1. What is an espression made up of?\n",
    "   answer : generally expression contain variables,operand,constants,operator and group or block of statemnent\n",
    "   example :\n",
    "            x = 89\n",
    "            y = 1\n",
    "            a = x + y # x and y are operand\n",
    "                      # + is opeartor\n",
    "                      # a is variable to store expression value\n",
    "   2. What do an Expression do?\n",
    "   answer : Generally all Expression are used to generate a values for furthure use in program.\n",
    "    \n",
    "\"\"\""
   ]
  },
  {
   "cell_type": "markdown",
   "id": "5a191d58",
   "metadata": {},
   "source": [
    "## Q3 This assignment statements, like spam = 10. \n",
    "##           What is the difference between an expression and a statement?"
   ]
  },
  {
   "cell_type": "code",
   "execution_count": null,
   "id": "2629bb47",
   "metadata": {},
   "outputs": [],
   "source": [
    "\"\"\"\n",
    "An Assignment statement is a way of assigning a value to a variable\n",
    "the simplest form of an assignment statement is : variable  = Expression \n",
    "example : gross_pay = hourly_pay_rate*hours_worked\n",
    "        ; gross_pay is variable \n",
    "        ; hourly_pay_rate*hours_worked is a Expression  \n",
    "\n",
    "now spam = 10 is also an assignment statement in which spam is a variable and value 10 is assign to it.\n",
    "\n",
    "Differnce between Statement and Expression:\n",
    "1. Expression :\n",
    "              expression is a combination of operator and operant and operant may contain variable and constant:\n",
    "              Eg. x = 10 ( x = operant variable and 10 is a operant constant\n",
    "                           = is operator )\n",
    "              ever expression given a value in output.\n",
    "2. statement :\n",
    "             each line of code in program is called statement , its also contain comments into it.\n",
    "             it may or may not give value as a output\n",
    "             Eg. print('kishan') → it's statement but not expression\n",
    "                 x = 10          → it's statement and expression\n",
    "                 #vhhvguwhuwehv  → it's statement but not expression\n",
    "\"\"\""
   ]
  },
  {
   "cell_type": "markdown",
   "id": "080567dc",
   "metadata": {},
   "source": [
    "## Q6 After running the following code, what does the variable bacon contain?\n",
    "    bacon = 22\n",
    "    bacon + 1\n",
    "        "
   ]
  },
  {
   "cell_type": "code",
   "execution_count": 25,
   "id": "d679f5f3",
   "metadata": {},
   "outputs": [
    {
     "data": {
      "text/plain": [
       "23"
      ]
     },
     "execution_count": 25,
     "metadata": {},
     "output_type": "execute_result"
    }
   ],
   "source": [
    "bacon = 22\n",
    "bacon + 1"
   ]
  },
  {
   "cell_type": "markdown",
   "id": "f5888bf4",
   "metadata": {},
   "source": [
    "## 7. What should the values of the following two terms be?\n",
    "       'spam' + 'spamspam'\n",
    "       'spam' * 3"
   ]
  },
  {
   "cell_type": "code",
   "execution_count": 26,
   "id": "15f9858b",
   "metadata": {},
   "outputs": [
    {
     "data": {
      "text/plain": [
       "'spamspamspam'"
      ]
     },
     "execution_count": 26,
     "metadata": {},
     "output_type": "execute_result"
    }
   ],
   "source": [
    "'spam' + 'spamspam'"
   ]
  },
  {
   "cell_type": "code",
   "execution_count": 27,
   "id": "61e6f79e",
   "metadata": {},
   "outputs": [
    {
     "data": {
      "text/plain": [
       "'spamspamspam'"
      ]
     },
     "execution_count": 27,
     "metadata": {},
     "output_type": "execute_result"
    }
   ],
   "source": [
    "'spam' * 3"
   ]
  },
  {
   "cell_type": "markdown",
   "id": "7f625b05",
   "metadata": {},
   "source": [
    "## 8. Why is eggs a valid variable name while 100 is invalid?"
   ]
  },
  {
   "cell_type": "code",
   "execution_count": null,
   "id": "f1d483f4",
   "metadata": {},
   "outputs": [],
   "source": []
  },
  {
   "cell_type": "markdown",
   "id": "1865b2c3",
   "metadata": {},
   "source": [
    "## 9. What three functions can be used to get the integer, floating-point number, or string version of a value?"
   ]
  },
  {
   "cell_type": "code",
   "execution_count": null,
   "id": "51898241",
   "metadata": {},
   "outputs": [],
   "source": [
    "\"\"\"\n",
    " int() , float() , str()\n",
    "\n",
    "\"\"\""
   ]
  },
  {
   "cell_type": "markdown",
   "id": "614fe1eb",
   "metadata": {},
   "source": [
    "### 10. Why does this expression cause an error? How can you fix it?\n",
    "### 'I have eaten ' + 99 + ' burritos.'"
   ]
  },
  {
   "cell_type": "code",
   "execution_count": null,
   "id": "5dded8d8",
   "metadata": {},
   "outputs": [],
   "source": []
  },
  {
   "cell_type": "code",
   "execution_count": 12,
   "id": "8dde9e2b",
   "metadata": {},
   "outputs": [
    {
     "data": {
      "text/plain": [
       "'I have eaten 99 burritos.'"
      ]
     },
     "execution_count": 12,
     "metadata": {},
     "output_type": "execute_result"
    }
   ],
   "source": [
    "\"\"\"\n",
    "'I have eaten ' + 99 + ' burritos.'\n",
    "\n",
    "TypeError: can only concatenate str (not \"int\") to str\n",
    "→ above code give error that 99 is not str its int and when we are doing concatenation operation that time all datatype should be string in this case\n",
    "\n",
    "so below correct code is written\n",
    "\"\"\"\n",
    "'I have eaten ' + '99' + ' burritos.'"
   ]
  },
  {
   "cell_type": "code",
   "execution_count": null,
   "id": "1552bdd3",
   "metadata": {},
   "outputs": [],
   "source": []
  },
  {
   "cell_type": "code",
   "execution_count": null,
   "id": "118c0b83",
   "metadata": {},
   "outputs": [],
   "source": []
  },
  {
   "cell_type": "code",
   "execution_count": null,
   "id": "88fd5dbb",
   "metadata": {},
   "outputs": [],
   "source": []
  }
 ],
 "metadata": {
  "kernelspec": {
   "display_name": "Python 3 (ipykernel)",
   "language": "python",
   "name": "python3"
  },
  "language_info": {
   "codemirror_mode": {
    "name": "ipython",
    "version": 3
   },
   "file_extension": ".py",
   "mimetype": "text/x-python",
   "name": "python",
   "nbconvert_exporter": "python",
   "pygments_lexer": "ipython3",
   "version": "3.9.7"
  }
 },
 "nbformat": 4,
 "nbformat_minor": 5
}
