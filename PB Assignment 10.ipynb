{
 "cells": [
  {
   "cell_type": "markdown",
   "id": "6dbea10a",
   "metadata": {},
   "source": [
    "## 1. How do you distinguish between shutil.copy() and shutil.copytree()?\n",
    "## Answer :\n",
    "    shitil.copy() is used to copy a single file \n",
    "    shutil.copytree() is used to copy entier folder with all files and folder inside it.\n",
    "    syntax for sutil.copytree() : sutil.copytree(source_path,destination_path)"
   ]
  },
  {
   "cell_type": "markdown",
   "id": "3d451216",
   "metadata": {},
   "source": [
    "## 2. What function is used to rename files??\n",
    "## Answer\n",
    "    rename() is used to rename any file and directory. even shutil.move() is used to rename and move a file also\n",
    "    syntax :\n",
    "        os.rename(sorce,destination)\n",
    "        eg :\n",
    "            source = 'abc/file.txt'\n",
    "            destination = 'abc/new_file.txt'\n",
    "            os.rename(source,destination)\n",
    "            \n",
    "            "
   ]
  },
  {
   "cell_type": "markdown",
   "id": "18ed8480",
   "metadata": {},
   "source": [
    "## 3. What is the difference between the delete functions in the send2trash and shutil modules?\n",
    "## Answer :\n",
    "    → delete function in send2transh module is used to transfer a file or folder into recycle bin\n",
    "    → delete function in shutil module is used to delete a file or folder permanently\n",
    "    \n",
    "\n"
   ]
  },
  {
   "cell_type": "markdown",
   "id": "5dec6f71",
   "metadata": {},
   "source": [
    "## 4.ZipFile objects have a close() method just like File objects’ close() method. What ZipFile method is equivalent to File objects’ open() method?\n",
    "## Answer :\n",
    "    zipfile.ZipFile() is equivalent to open() function in File object's method\n",
    "    syntax :\n",
    "            zipfile.ZipFile(file_name,mode)\n",
    "\n",
    "    "
   ]
  },
  {
   "cell_type": "markdown",
   "id": "7514b1d3",
   "metadata": {},
   "source": [
    "## 5. Create a programme that searches a folder tree for files with a certain file extension (such as .pdf or .jpg). Copy these files from whatever location they are in to a new folder.\n",
    "## Answer"
   ]
  },
  {
   "cell_type": "code",
   "execution_count": null,
   "id": "935460d0",
   "metadata": {},
   "outputs": [],
   "source": [
    "import re\n",
    "import os\n",
    "import shutil\n",
    "\n",
    "f_pdf = re.compile(r\"\"\"^(.*?)          #text before extension\n",
    "          [.][p][d][f]                   #extension .pdf\n",
    "          \"\"\", re.VERBOSE)\n",
    "\n",
    "def selectiveCopy(fileExtension):\n",
    "    for pdfFiles in os.listdir(\"/Users//Desktop/newPDFs\"):\n",
    "        locatedFiles = f_pdf.search(pdfFiles)\n",
    "        if locatedFiles != None:\n",
    "            print(locatedFiles)\n",
    "            files_to_copy = os.path.join(\"/Users/my_user_name/Desktop/newPDFs\", pdfFiles)   `\n",
    "            shutil.copy(files_to_copy, \"/Users/my_user_name/Desktop/oldPDFs\")   \n",
    "            print(\"The following file has been copied \" + files_to_copy)\n",
    "selectiveCopy(f_pdf)"
   ]
  }
 ],
 "metadata": {
  "kernelspec": {
   "display_name": "Python 3 (ipykernel)",
   "language": "python",
   "name": "python3"
  },
  "language_info": {
   "codemirror_mode": {
    "name": "ipython",
    "version": 3
   },
   "file_extension": ".py",
   "mimetype": "text/x-python",
   "name": "python",
   "nbconvert_exporter": "python",
   "pygments_lexer": "ipython3",
   "version": "3.9.7"
  }
 },
 "nbformat": 4,
 "nbformat_minor": 5
}
