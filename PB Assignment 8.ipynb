{
 "cells": [
  {
   "cell_type": "markdown",
   "id": "c1f85a97",
   "metadata": {},
   "source": [
    "## 1. Is the Python Standard Library included with PyInputPlus?\n",
    "## Answer :\n",
    "    PyInputPlus is not a standard library of python . we have to install it by using pip\n",
    "    code : !pip install pyinputplus\n"
   ]
  },
  {
   "cell_type": "markdown",
   "id": "90884ebf",
   "metadata": {},
   "source": [
    "## 2. Why is PyInputPlus commonly imported with import pyinputplus as pypi?\n",
    "## Answer : \n",
    "    pypi indicate alias of PyInputPlus . now if we write PyInputPlus function again and again it will take time so we can       write pypi instead of whole function\n",
    "    \n"
   ]
  },
  {
   "cell_type": "markdown",
   "id": "29dcb814",
   "metadata": {},
   "source": [
    "## 3. How do you distinguish between inputInt() and inputFloat()\n",
    "## Answer :\n",
    "    inputint()   = accept an integer value and return int value\n",
    "    inputfloat() = accept an ineger/floating point values but return float value\n",
    "\n"
   ]
  },
  {
   "cell_type": "code",
   "execution_count": null,
   "id": "4974ea23",
   "metadata": {},
   "outputs": [],
   "source": [
    "import pyinputplus as pyip\n",
    "pyip.inputInt()\n",
    "pyip.inputFloat()"
   ]
  },
  {
   "cell_type": "markdown",
   "id": "41ba415d",
   "metadata": {},
   "source": [
    "## 4. Using PyInputPlus, how do you ensure that the user enters a whole number between 0 and 99?\n",
    "## Answer :\n",
    "    We can set minimum and maximum limits for user entry\n",
    "    "
   ]
  },
  {
   "cell_type": "code",
   "execution_count": null,
   "id": "21694c35",
   "metadata": {},
   "outputs": [],
   "source": [
    "!pip install pyinputplus"
   ]
  },
  {
   "cell_type": "code",
   "execution_count": null,
   "id": "5ace8023",
   "metadata": {},
   "outputs": [],
   "source": [
    "pyip.inputint(min = 0,max = 100)"
   ]
  },
  {
   "cell_type": "markdown",
   "id": "2f7c30ac",
   "metadata": {},
   "source": [
    "## 5. What is transferred to the keyword arguments allowRegexes and blockRegexes?\n",
    "## Answer :\n",
    "    The allowRegexes and blockRegexes keyword arguments take a list of regular expression strings to determine what the PyInputPlus function will accept or reject as valid input.\n"
   ]
  },
  {
   "cell_type": "code",
   "execution_count": null,
   "id": "a2fcbe34",
   "metadata": {},
   "outputs": [],
   "source": [
    "response = pyip.inputNum(allowRegexes=[r'(I|V|X|L|C|D|M)+', r'zero']) # it allowes roman letters as numbers too"
   ]
  },
  {
   "cell_type": "code",
   "execution_count": null,
   "id": "ddbf8b5c",
   "metadata": {},
   "outputs": [],
   "source": [
    "response = pyip.inputNum(blockRegexes=[r'[02468]$'])# blocks the even numbers"
   ]
  },
  {
   "cell_type": "markdown",
   "id": "f605e3fa",
   "metadata": {},
   "source": [
    "## 6. If a blank input is entered three times, what does inputStr(limit=3) do? \n",
    "## Answer :\n",
    "    it will throw RetryLimitException message/exception\n"
   ]
  },
  {
   "cell_type": "code",
   "execution_count": null,
   "id": "0675cb4f",
   "metadata": {},
   "outputs": [],
   "source": [
    "q = pyip.inputStr(limit=3)"
   ]
  },
  {
   "cell_type": "markdown",
   "id": "03d25897",
   "metadata": {},
   "source": [
    "## 7. If blank input is entered three times, what does inputStr(limit=3, default='hello') do?\n",
    "## Answer :\n",
    "    the function returns the default value instead of raising an exception"
   ]
  },
  {
   "cell_type": "code",
   "execution_count": null,
   "id": "3b60cb11",
   "metadata": {},
   "outputs": [],
   "source": [
    "a = pyip.inputStr(limit=3,default='hello')\n",
    "a"
   ]
  }
 ],
 "metadata": {
  "kernelspec": {
   "display_name": "Python 3 (ipykernel)",
   "language": "python",
   "name": "python3"
  },
  "language_info": {
   "codemirror_mode": {
    "name": "ipython",
    "version": 3
   },
   "file_extension": ".py",
   "mimetype": "text/x-python",
   "name": "python",
   "nbconvert_exporter": "python",
   "pygments_lexer": "ipython3",
   "version": "3.9.7"
  }
 },
 "nbformat": 4,
 "nbformat_minor": 5
}
