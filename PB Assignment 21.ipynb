{
 "cells": [
  {
   "cell_type": "markdown",
   "id": "6c5c8d64",
   "metadata": {},
   "source": [
    "## 1. Add the current date to the text file today.txt as a string\n",
    "## Answer :"
   ]
  },
  {
   "cell_type": "code",
   "execution_count": 5,
   "id": "211a5cbc",
   "metadata": {},
   "outputs": [
    {
     "data": {
      "text/plain": [
       "'2022-05-29'"
      ]
     },
     "execution_count": 5,
     "metadata": {},
     "output_type": "execute_result"
    }
   ],
   "source": [
    "import datetime\n",
    "from datetime import date\n",
    "n = date.today()\n",
    "per_n = n.isoformat()\n",
    "per_n"
   ]
  },
  {
   "cell_type": "code",
   "execution_count": 7,
   "id": "6b8d08ae",
   "metadata": {},
   "outputs": [],
   "source": [
    "with open('today.txt','w') as f:\n",
    "    f.write(per_n)\n",
    "    f.close()"
   ]
  },
  {
   "cell_type": "markdown",
   "id": "d5d380c3",
   "metadata": {},
   "source": [
    "## 2. Read the text file today.txt into the string today_string\n",
    "## Answer :"
   ]
  },
  {
   "cell_type": "code",
   "execution_count": 17,
   "id": "83aede12",
   "metadata": {},
   "outputs": [
    {
     "data": {
      "text/plain": [
       "'2022-05-29'"
      ]
     },
     "execution_count": 17,
     "metadata": {},
     "output_type": "execute_result"
    }
   ],
   "source": [
    "with open('today.txt','r') as f:\n",
    "    today_string = f.read()\n",
    "today_string"
   ]
  },
  {
   "cell_type": "code",
   "execution_count": 18,
   "id": "1b06c515",
   "metadata": {},
   "outputs": [],
   "source": [
    "f.close()"
   ]
  },
  {
   "cell_type": "markdown",
   "id": "ebbf9db6",
   "metadata": {},
   "source": [
    "## 3. Prase the data from today_string\n",
    "## Answer :"
   ]
  },
  {
   "cell_type": "code",
   "execution_count": 25,
   "id": "fcf04a01",
   "metadata": {},
   "outputs": [
    {
     "data": {
      "text/plain": [
       "datetime.datetime(2022, 5, 29, 0, 0)"
      ]
     },
     "execution_count": 25,
     "metadata": {},
     "output_type": "execute_result"
    }
   ],
   "source": [
    "from datetime import datetime\n",
    "format ='%Y-%m-%d'\n",
    "datetime.strptime(today_string,format)\n"
   ]
  },
  {
   "cell_type": "markdown",
   "id": "251070cb",
   "metadata": {},
   "source": [
    "## 4. Lists the fies in the current directory\n",
    "## Answer :"
   ]
  },
  {
   "cell_type": "code",
   "execution_count": 3,
   "id": "1edf0faa",
   "metadata": {},
   "outputs": [
    {
     "data": {
      "text/plain": [
       "['.anaconda',\n",
       " '.conda',\n",
       " '.condarc',\n",
       " '.continuum',\n",
       " '.ipynb_checkpoints',\n",
       " '.ipython',\n",
       " '.jupyter',\n",
       " '.matplotlib',\n",
       " '.obs64',\n",
       " '.vscode',\n",
       " '3D Objects',\n",
       " 'all_month_data.csv',\n",
       " 'anaconda3',\n",
       " 'AppData',\n",
       " 'Application Data',\n",
       " 'bo.csv',\n",
       " 'books.csv',\n",
       " 'books.db',\n",
       " 'books.db-journal',\n",
       " 'circket.csv',\n",
       " 'completedatascience',\n",
       " 'Contacts',\n",
       " 'Cookies',\n",
       " 'customer.db',\n",
       " 'customer.db-journal',\n",
       " 'Documents',\n",
       " 'Downloads',\n",
       " 'Favorites',\n",
       " 'for jupyter notebook',\n",
       " 'IntelGraphicsProfiles',\n",
       " 'json_res.csv',\n",
       " 'lecture 31_pandas and numpy.ipynb',\n",
       " 'Links',\n",
       " 'Local Settings',\n",
       " 'MicrosoftEdgeBackups',\n",
       " 'Music',\n",
       " 'My Documents',\n",
       " 'mysql-installer-web-community-8.0.28.0.msi',\n",
       " 'NetHood',\n",
       " 'notepad ++',\n",
       " 'NTUSER.DAT',\n",
       " 'ntuser.dat.LOG1',\n",
       " 'ntuser.dat.LOG2',\n",
       " 'NTUSER.DAT{9ae8055c-6b8d-11ec-a7d2-ffd531e52e4c}.TM.blf',\n",
       " 'NTUSER.DAT{9ae8055c-6b8d-11ec-a7d2-ffd531e52e4c}.TMContainer00000000000000000001.regtrans-ms',\n",
       " 'NTUSER.DAT{9ae8055c-6b8d-11ec-a7d2-ffd531e52e4c}.TMContainer00000000000000000002.regtrans-ms',\n",
       " 'NTUSER.DAT{df7a1d84-9ef7-11ec-a84f-b010410976f8}.TxR.0.regtrans-ms',\n",
       " 'NTUSER.DAT{df7a1d84-9ef7-11ec-a84f-b010410976f8}.TxR.1.regtrans-ms',\n",
       " 'NTUSER.DAT{df7a1d84-9ef7-11ec-a84f-b010410976f8}.TxR.2.regtrans-ms',\n",
       " 'NTUSER.DAT{df7a1d84-9ef7-11ec-a84f-b010410976f8}.TxR.blf',\n",
       " 'NTUSER.DAT{df7a1d85-9ef7-11ec-a84f-b010410976f8}.TM.blf',\n",
       " 'NTUSER.DAT{df7a1d85-9ef7-11ec-a84f-b010410976f8}.TMContainer00000000000000000001.regtrans-ms',\n",
       " 'NTUSER.DAT{df7a1d85-9ef7-11ec-a84f-b010410976f8}.TMContainer00000000000000000002.regtrans-ms',\n",
       " 'ntuser.ini',\n",
       " 'OneDrive',\n",
       " 'pandas 4 .ipynb',\n",
       " 'pandas day 2.ipynb',\n",
       " 'PB Assignment 10.ipynb',\n",
       " 'PB Assignment 12.ipynb',\n",
       " 'PB Assignment 13.ipynb',\n",
       " 'PB Assignment 14.ipynb',\n",
       " 'PB Assignment 15.ipynb',\n",
       " 'PB Assignment 16.ipynb',\n",
       " 'PB Assignment 17.ipynb',\n",
       " 'PB Assignment 18.ipynb',\n",
       " 'PB Assignment 19.ipynb',\n",
       " 'PB Assignment 2.ipynb',\n",
       " 'PB Assignment 20.ipynb',\n",
       " 'PB Assignment 21.ipynb',\n",
       " 'PB Assignment 4.ipynb',\n",
       " 'PB Assignment 5.ipynb',\n",
       " 'PB Assignment 6.ipynb',\n",
       " 'PB Assignment 7.ipynb',\n",
       " 'PB Assignment 8.ipynb',\n",
       " 'PB Assignment 9.ipynb',\n",
       " 'PB Assingnment 3.ipynb',\n",
       " 'PB Assinment 11.ipynb',\n",
       " 'PB_Assignment_1.ipynb',\n",
       " 'practice of pandas (content of lecture of 26 and 27).ipynb',\n",
       " 'PrintHood',\n",
       " 'programLog.txt.log',\n",
       " 'pycharm',\n",
       " 'Recent',\n",
       " 'sales marketing project.ipynb',\n",
       " 'Saved Games',\n",
       " 'Searches',\n",
       " 'SendTo',\n",
       " 'Start Menu',\n",
       " 'task = bank marketing data set.ipynb',\n",
       " 'task = titanic data set.ipynb',\n",
       " 'task of lecture number 25 SQLite.ipynb',\n",
       " 'tedt.pdf',\n",
       " 'telegram',\n",
       " 'Templates',\n",
       " 'test.txt',\n",
       " 'Tick Tick',\n",
       " 'today.txt',\n",
       " 'Tracing',\n",
       " 'Untitled.ipynb',\n",
       " 'Untitled1.ipynb',\n",
       " 'Untitled2.ipynb',\n",
       " 'Untitled3.ipynb',\n",
       " 'Untitled4.ipynb',\n",
       " 'Untitled5.ipynb',\n",
       " 'Untitled6.ipynb',\n",
       " 'Videos',\n",
       " 'vocab_logfile.log',\n",
       " 'xyz.Docx',\n",
       " 'zoo.ipynb',\n",
       " 'zoo.py',\n",
       " '__pycache__']"
      ]
     },
     "execution_count": 3,
     "metadata": {},
     "output_type": "execute_result"
    }
   ],
   "source": [
    "import os\n",
    "os.listdir('.')"
   ]
  },
  {
   "cell_type": "markdown",
   "id": "7e2261d4",
   "metadata": {},
   "source": [
    "## 5. Create a list of all of the files in your parent directory (minimum five files should be available).\n",
    "## Answer :"
   ]
  },
  {
   "cell_type": "code",
   "execution_count": 7,
   "id": "f98e3cd6",
   "metadata": {},
   "outputs": [
    {
     "data": {
      "text/plain": [
       "['.anaconda',\n",
       " '.conda',\n",
       " '.condarc',\n",
       " '.continuum',\n",
       " '.ipynb_checkpoints',\n",
       " '.ipython',\n",
       " '.jupyter',\n",
       " '.matplotlib',\n",
       " '.obs64',\n",
       " '.vscode',\n",
       " '3D Objects',\n",
       " 'all_month_data.csv',\n",
       " 'anaconda3',\n",
       " 'AppData',\n",
       " 'Application Data',\n",
       " 'bo.csv',\n",
       " 'books.csv',\n",
       " 'books.db',\n",
       " 'books.db-journal',\n",
       " 'circket.csv',\n",
       " 'completedatascience',\n",
       " 'Contacts',\n",
       " 'Cookies',\n",
       " 'customer.db',\n",
       " 'customer.db-journal',\n",
       " 'Documents',\n",
       " 'Downloads',\n",
       " 'Favorites',\n",
       " 'for jupyter notebook',\n",
       " 'IntelGraphicsProfiles',\n",
       " 'json_res.csv',\n",
       " 'lecture 31_pandas and numpy.ipynb',\n",
       " 'Links',\n",
       " 'Local Settings',\n",
       " 'MicrosoftEdgeBackups',\n",
       " 'Music',\n",
       " 'My Documents',\n",
       " 'mysql-installer-web-community-8.0.28.0.msi',\n",
       " 'NetHood',\n",
       " 'notepad ++',\n",
       " 'NTUSER.DAT',\n",
       " 'ntuser.dat.LOG1',\n",
       " 'ntuser.dat.LOG2',\n",
       " 'NTUSER.DAT{9ae8055c-6b8d-11ec-a7d2-ffd531e52e4c}.TM.blf',\n",
       " 'NTUSER.DAT{9ae8055c-6b8d-11ec-a7d2-ffd531e52e4c}.TMContainer00000000000000000001.regtrans-ms',\n",
       " 'NTUSER.DAT{9ae8055c-6b8d-11ec-a7d2-ffd531e52e4c}.TMContainer00000000000000000002.regtrans-ms',\n",
       " 'NTUSER.DAT{df7a1d84-9ef7-11ec-a84f-b010410976f8}.TxR.0.regtrans-ms',\n",
       " 'NTUSER.DAT{df7a1d84-9ef7-11ec-a84f-b010410976f8}.TxR.1.regtrans-ms',\n",
       " 'NTUSER.DAT{df7a1d84-9ef7-11ec-a84f-b010410976f8}.TxR.2.regtrans-ms',\n",
       " 'NTUSER.DAT{df7a1d84-9ef7-11ec-a84f-b010410976f8}.TxR.blf',\n",
       " 'NTUSER.DAT{df7a1d85-9ef7-11ec-a84f-b010410976f8}.TM.blf',\n",
       " 'NTUSER.DAT{df7a1d85-9ef7-11ec-a84f-b010410976f8}.TMContainer00000000000000000001.regtrans-ms',\n",
       " 'NTUSER.DAT{df7a1d85-9ef7-11ec-a84f-b010410976f8}.TMContainer00000000000000000002.regtrans-ms',\n",
       " 'ntuser.ini',\n",
       " 'OneDrive',\n",
       " 'pandas 4 .ipynb',\n",
       " 'pandas day 2.ipynb',\n",
       " 'PB Assignment 10.ipynb',\n",
       " 'PB Assignment 12.ipynb',\n",
       " 'PB Assignment 13.ipynb',\n",
       " 'PB Assignment 14.ipynb',\n",
       " 'PB Assignment 15.ipynb',\n",
       " 'PB Assignment 16.ipynb',\n",
       " 'PB Assignment 17.ipynb',\n",
       " 'PB Assignment 18.ipynb',\n",
       " 'PB Assignment 19.ipynb',\n",
       " 'PB Assignment 2.ipynb',\n",
       " 'PB Assignment 20.ipynb',\n",
       " 'PB Assignment 21.ipynb',\n",
       " 'PB Assignment 4.ipynb',\n",
       " 'PB Assignment 5.ipynb',\n",
       " 'PB Assignment 6.ipynb',\n",
       " 'PB Assignment 7.ipynb',\n",
       " 'PB Assignment 8.ipynb',\n",
       " 'PB Assignment 9.ipynb',\n",
       " 'PB Assingnment 3.ipynb',\n",
       " 'PB Assinment 11.ipynb',\n",
       " 'PB_Assignment_1.ipynb',\n",
       " 'practice of pandas (content of lecture of 26 and 27).ipynb',\n",
       " 'PrintHood',\n",
       " 'programLog.txt.log',\n",
       " 'pycharm',\n",
       " 'Recent',\n",
       " 'sales marketing project.ipynb',\n",
       " 'Saved Games',\n",
       " 'Searches',\n",
       " 'SendTo',\n",
       " 'Start Menu',\n",
       " 'task = bank marketing data set.ipynb',\n",
       " 'task = titanic data set.ipynb',\n",
       " 'task of lecture number 25 SQLite.ipynb',\n",
       " 'tedt.pdf',\n",
       " 'telegram',\n",
       " 'Templates',\n",
       " 'test.txt',\n",
       " 'Tick Tick',\n",
       " 'today.txt',\n",
       " 'Tracing',\n",
       " 'Untitled.ipynb',\n",
       " 'Untitled1.ipynb',\n",
       " 'Untitled2.ipynb',\n",
       " 'Untitled3.ipynb',\n",
       " 'Untitled4.ipynb',\n",
       " 'Untitled5.ipynb',\n",
       " 'Untitled6.ipynb',\n",
       " 'Videos',\n",
       " 'vocab_logfile.log',\n",
       " 'xyz.Docx',\n",
       " 'zoo.ipynb',\n",
       " 'zoo.py',\n",
       " '__pycache__']"
      ]
     },
     "execution_count": 7,
     "metadata": {},
     "output_type": "execute_result"
    }
   ],
   "source": [
    "l = []\n",
    "count = 0\n",
    "for i in os.listdir():\n",
    "    l.append(i)\n",
    "    \n",
    "l"
   ]
  },
  {
   "cell_type": "markdown",
   "id": "a7eac7d7",
   "metadata": {},
   "source": [
    "## 6. Use multiprocessing to create three separate processes. Make each one wait a random number of seconds between one and five, print the current time, and then exit.\n",
    "## Answer :"
   ]
  },
  {
   "cell_type": "code",
   "execution_count": 31,
   "id": "45860cc2",
   "metadata": {},
   "outputs": [
    {
     "name": "stdout",
     "output_type": "stream",
     "text": [
      "finised in 0.31 seconds\n",
      "current time is 23:45:45\n"
     ]
    }
   ],
   "source": [
    "import multiprocessing\n",
    "import time\n",
    "from datetime import datetime as dt\n",
    "\n",
    "\n",
    "# start time counter\n",
    "start = time.perf_counter()\n",
    "\n",
    "\n",
    "# multiprocess function\n",
    "def do_sleeping(second):\n",
    "    print(f'sleep for {second} second')\n",
    "    time.sleep(second)\n",
    "    print('sleeping done..')\n",
    "    \n",
    "p1 = multiprocessing.Process(target = do_sleeping,args = [1])\n",
    "p2 = multiprocessing.Process(target = do_sleeping,args = [1.2])\n",
    "p3 = multiprocessing.Process(target = do_sleeping,args = [1.5])\n",
    "\n",
    "p1.start()\n",
    "p2.start()\n",
    "p3.start()\n",
    "\n",
    "p1.join()\n",
    "p2.join()\n",
    "p3.join()\n",
    "\n",
    "\n",
    "\n",
    "now = dt.now()\n",
    "\n",
    "current_time = now.strftime(\"%H:%M:%S\")\n",
    "\n",
    "# finish counter \n",
    "finish = time.perf_counter()\n",
    "print(f'finised in {round(finish-start,2)} seconds')\n",
    "print(f'current time is {current_time}')\n",
    "\n"
   ]
  },
  {
   "cell_type": "markdown",
   "id": "d2235c40",
   "metadata": {},
   "source": [
    "## 7. create a date object for your date of birth\n",
    "## Answer :"
   ]
  },
  {
   "cell_type": "code",
   "execution_count": 40,
   "id": "bba0e41d",
   "metadata": {},
   "outputs": [
    {
     "data": {
      "text/plain": [
       "datetime.date(1999, 10, 1)"
      ]
     },
     "execution_count": 40,
     "metadata": {},
     "output_type": "execute_result"
    }
   ],
   "source": [
    "from datetime import date\n",
    "my_birth_date = date(1999,10,1)\n",
    "my_birth_date"
   ]
  },
  {
   "cell_type": "markdown",
   "id": "355d9a38",
   "metadata": {},
   "source": [
    "## 8. What day of the week was your day of birth?\n",
    "## Answer :"
   ]
  },
  {
   "cell_type": "code",
   "execution_count": 52,
   "id": "41345caf",
   "metadata": {},
   "outputs": [
    {
     "data": {
      "text/plain": [
       "4"
      ]
     },
     "execution_count": 52,
     "metadata": {},
     "output_type": "execute_result"
    }
   ],
   "source": [
    "my_birth_date.weekday()\n",
    "## i Know my answer is wrong but i cannont solve it please give remark of it"
   ]
  },
  {
   "cell_type": "markdown",
   "id": "fa671bcd",
   "metadata": {},
   "source": [
    "## 9. When will you be (or when were you) 10,000 days old?\n",
    "## Answer :"
   ]
  },
  {
   "cell_type": "code",
   "execution_count": 54,
   "id": "e935b4b0",
   "metadata": {},
   "outputs": [
    {
     "data": {
      "text/plain": [
       "datetime.date(2027, 2, 16)"
      ]
     },
     "execution_count": 54,
     "metadata": {},
     "output_type": "execute_result"
    }
   ],
   "source": [
    "from datetime import timedelta \n",
    "date_10000 = my_birth_date  + timedelta(days = 10000)\n",
    "date_10000"
   ]
  }
 ],
 "metadata": {
  "kernelspec": {
   "display_name": "Python 3 (ipykernel)",
   "language": "python",
   "name": "python3"
  },
  "language_info": {
   "codemirror_mode": {
    "name": "ipython",
    "version": 3
   },
   "file_extension": ".py",
   "mimetype": "text/x-python",
   "name": "python",
   "nbconvert_exporter": "python",
   "pygments_lexer": "ipython3",
   "version": "3.9.7"
  }
 },
 "nbformat": 4,
 "nbformat_minor": 5
}
