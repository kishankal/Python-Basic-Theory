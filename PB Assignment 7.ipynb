{
 "cells": [
  {
   "cell_type": "markdown",
   "id": "30a779cb",
   "metadata": {},
   "source": [
    "## 1. What is the name of the feature responsible for generating Regex objects?\n",
    "## Answer :\n",
    "    The re.compile() function returns Regex objects."
   ]
  },
  {
   "cell_type": "code",
   "execution_count": 1,
   "id": "926217a8",
   "metadata": {},
   "outputs": [
    {
     "data": {
      "text/plain": [
       "re.compile(r'string', re.UNICODE)"
      ]
     },
     "execution_count": 1,
     "metadata": {},
     "output_type": "execute_result"
    }
   ],
   "source": [
    "\n",
    "import re\n",
    "re.compile(\"string\")\n",
    "#The re.compile() function returns Regex object"
   ]
  },
  {
   "cell_type": "markdown",
   "id": "d2d22a9a",
   "metadata": {},
   "source": [
    "## 2. Why do raw strings often appear in Regex objects?\n",
    "## Answer :\n",
    "    Raw strings are appear so that backslashes do not have to be escaped.\n"
   ]
  },
  {
   "cell_type": "markdown",
   "id": "95fd4d5d",
   "metadata": {},
   "source": [
    "## 3. What is the return value of the search() method?\n",
    "## Answer :\n",
    "    The search() method returns Match objects.\n",
    "    The search() method searches a string for a specified value, and returns the position of the match. The search value       can be string or a regular expression. This method returns -1 if no match is found\n"
   ]
  },
  {
   "cell_type": "markdown",
   "id": "4d073a28",
   "metadata": {},
   "source": [
    "## 4. From a match item, how do you get the actual strings that match the pattern?\n",
    "## Answer :"
   ]
  },
  {
   "cell_type": "code",
   "execution_count": 3,
   "id": "e9919f81",
   "metadata": {},
   "outputs": [
    {
     "name": "stdout",
     "output_type": "stream",
     "text": [
      "Phone number is: 345-444-4542\n"
     ]
    }
   ],
   "source": [
    "phoneNumRegex = re.compile(r'\\d\\d\\d-\\d\\d\\d-\\d\\d\\d\\d')\n",
    "mo = phoneNumRegex.search('My number is 345-444-4542.')\n",
    "print('Phone number is: ' + mo.group())\n",
    "#Calling matchingObject.group() will return the string."
   ]
  },
  {
   "cell_type": "markdown",
   "id": "2b2bf7bc",
   "metadata": {},
   "source": [
    "## 5. In the regex which created from the r'(\\d\\d\\d)-(\\d\\d\\d)-(\\d\\d\\d\\d)', what does group zero cover? Group 2? Group 1?\n",
    "## Answer :\n",
    "        Group 0 is the entire match, group 1 covers the first set of parentheses, and group 2 covers the second set of\n",
    "        parentheses.\n"
   ]
  },
  {
   "cell_type": "code",
   "execution_count": 5,
   "id": "3b923cbf",
   "metadata": {},
   "outputs": [
    {
     "data": {
      "text/plain": [
       "'kkalariya200@gmail.com'"
      ]
     },
     "execution_count": 5,
     "metadata": {},
     "output_type": "execute_result"
    }
   ],
   "source": [
    "l = 'kkalariya200@gmail.com'\n",
    "match_object = re.match(r'(\\w+)@(\\w+).(\\w+)','kkalariya200@gmail.com')\n",
    "match_object.group(0)"
   ]
  },
  {
   "cell_type": "code",
   "execution_count": 6,
   "id": "bd6223d1",
   "metadata": {},
   "outputs": [
    {
     "data": {
      "text/plain": [
       "'kkalariya200'"
      ]
     },
     "execution_count": 6,
     "metadata": {},
     "output_type": "execute_result"
    }
   ],
   "source": [
    "match_object.group(1)"
   ]
  },
  {
   "cell_type": "code",
   "execution_count": 7,
   "id": "4c89907f",
   "metadata": {},
   "outputs": [
    {
     "data": {
      "text/plain": [
       "'gmail'"
      ]
     },
     "execution_count": 7,
     "metadata": {},
     "output_type": "execute_result"
    }
   ],
   "source": [
    "match_object.group(2)"
   ]
  },
  {
   "cell_type": "markdown",
   "id": "77a5b9b1",
   "metadata": {},
   "source": [
    "## 6. In standard expression syntax, parentheses and intervals have distinct meanings. How can you tell a regex that you want it to fit real parentheses and periods?\n",
    "## Answer :\n",
    "       Periods and parentheses can be escaped with a backslash: \\., \\(, and \\)."
   ]
  },
  {
   "cell_type": "markdown",
   "id": "8ca3010e",
   "metadata": {},
   "source": [
    "## 7. The findall() method returns a string list or a list of string tuples. What causes it to return one of the two options?\n",
    "## Answer :\n",
    "    If the regex has no groups, a list of strings is returned. If the regex has groups, a list of tuples of strings is returned."
   ]
  },
  {
   "cell_type": "code",
   "execution_count": 46,
   "id": "0af46f75",
   "metadata": {
    "scrolled": true
   },
   "outputs": [
    {
     "name": "stdout",
     "output_type": "stream",
     "text": [
      "kishan@abc.com\n",
      "bhavik@gmail.com\n",
      "kalariya@gmail.com\n"
     ]
    },
    {
     "data": {
      "text/plain": [
       "list"
      ]
     },
     "execution_count": 46,
     "metadata": {},
     "output_type": "execute_result"
    }
   ],
   "source": [
    "abc = 'kishan@abc.com,bhavik@gmail.com,kalariya@gmail.com'\n",
    "names = re.findall(r'[\\w\\.-]+@[\\w\\.-]+',abc)\n",
    "for i in names:\n",
    "    print(i)\n",
    "type(names)"
   ]
  },
  {
   "cell_type": "markdown",
   "id": "5c53c949",
   "metadata": {},
   "source": [
    "## 8. In standard expressions, what does the | character mean?\n",
    "## Answer :\n",
    "     The | character is called a pipe. You can use it anywhere you want to match one of many expressions. For example, the      regular expression r'Cricket|Soccer Sport' will match either 'Cricket' or 'Soccer Sport'.\n",
    "\n",
    "     When both Cricket and Soccer Sport occur in the searched string, the first occurrence of matching text will be              returned as the Match object.\n",
    "\n",
    "     The | character signifies matching “either, or” between two groups\n"
   ]
  },
  {
   "cell_type": "code",
   "execution_count": 9,
   "id": "890c5034",
   "metadata": {},
   "outputs": [
    {
     "data": {
      "text/plain": [
       "'Cricket'"
      ]
     },
     "execution_count": 9,
     "metadata": {},
     "output_type": "execute_result"
    }
   ],
   "source": [
    "SportRegex = re.compile (r'Cricket|Soccer Sport')\n",
    "s1 = SportRegex.search('Cricket and Soccer Sport')\n",
    "s1.group()"
   ]
  },
  {
   "cell_type": "code",
   "execution_count": 10,
   "id": "7dee3030",
   "metadata": {},
   "outputs": [
    {
     "data": {
      "text/plain": [
       "'Soccer Sport'"
      ]
     },
     "execution_count": 10,
     "metadata": {},
     "output_type": "execute_result"
    }
   ],
   "source": [
    "s2 = SportRegex.search('Soccer Sport and Cricket')\n",
    "s2.group()"
   ]
  },
  {
   "cell_type": "markdown",
   "id": "75de29a0",
   "metadata": {},
   "source": [
    "## 9. In regular expressions, what does the character stand for?\n",
    "## Answer :\n",
    "     The + matches one or more. The * matches zero or more\n",
    "    "
   ]
  },
  {
   "cell_type": "markdown",
   "id": "45d67c20",
   "metadata": {},
   "source": [
    "## 10.In regular expressions, what is the difference between the + and * characters?\n",
    "## Answer :\n",
    "    The + matches one or more. The * matches zero or more."
   ]
  },
  {
   "cell_type": "markdown",
   "id": "eccd7648",
   "metadata": {},
   "source": [
    "## 11. What is the difference between {4} and {4,5} in regular expression?\n",
    "## Answer :\n",
    "    The {4} matches exactly three instances of the preceding group. The {4,5} matches between three and five instances"
   ]
  },
  {
   "cell_type": "markdown",
   "id": "12f6f867",
   "metadata": {},
   "source": [
    "## 12. What do you mean by the \\d, \\w, and \\s shorthand character classes signify in regular expressions? \n",
    "## Answer :\n",
    "    The \\d, stands for single digit, Any numeric digit from 0 to 9 \\w, stands for single word, Any letter, numeric digit,       or the underscore character. (Think of this as matching “word” characters.) \\s stands for single space character, Any       space, tab, or newline character. (Think of this as matching “space” characters.)\n"
   ]
  },
  {
   "cell_type": "markdown",
   "id": "34fffe22",
   "metadata": {},
   "source": [
    "## 13. What do means by \\D, \\W, and \\S shorthand character classes signify in regular expressions?\n",
    "## Answer :\n",
    "     \\D - > Any character that is not a numeric digit from 0 to 9.\n",
    "     \\W - > Any character that is not a letter, numeric digit, or the underscore character.\n",
    "     \\S - > Any character that is not a space, tab, or newline"
   ]
  },
  {
   "cell_type": "markdown",
   "id": "1c6695d1",
   "metadata": {},
   "source": [
    "## 14 What is the diffrence between .*? and .* ?\n",
    "## Answer :\n",
    "    The dot-star uses greedy mode: It will always try to match as much text as possible.\n",
    "    .? - To match any and all text in a non-greedy fashion, use the dot, star, and question mark (.*?). Like with braces,       the question mark tells Python to match in a non-greedy way.\n"
   ]
  },
  {
   "cell_type": "code",
   "execution_count": 11,
   "id": "5327716d",
   "metadata": {},
   "outputs": [
    {
     "data": {
      "text/plain": [
       "'<To serve man> for dinner.>'"
      ]
     },
     "execution_count": 11,
     "metadata": {},
     "output_type": "execute_result"
    }
   ],
   "source": [
    "greedyRegex = re.compile(r'<.*>')\n",
    "mo = greedyRegex.search('<To serve man> for dinner.>')\n",
    "mo.group()"
   ]
  },
  {
   "cell_type": "code",
   "execution_count": 12,
   "id": "0eb810ef",
   "metadata": {},
   "outputs": [
    {
     "data": {
      "text/plain": [
       "'<To serve man>'"
      ]
     },
     "execution_count": 12,
     "metadata": {},
     "output_type": "execute_result"
    }
   ],
   "source": [
    "nongreedyRegex = re.compile(r'<.*?>')\n",
    "mo = nongreedyRegex.search('<To serve man> for dinner.>')\n",
    "mo.group()"
   ]
  },
  {
   "cell_type": "markdown",
   "id": "205200c6",
   "metadata": {},
   "source": [
    "## 15. What is the syntax for matching both numbers and lowercase letters with a character class?\n",
    "## Answer :\n",
    "    Either [0-9a-z] or [a-z0-9]\n"
   ]
  },
  {
   "cell_type": "code",
   "execution_count": 13,
   "id": "668c4af5",
   "metadata": {},
   "outputs": [
    {
     "data": {
      "text/plain": [
       "'1'"
      ]
     },
     "execution_count": 13,
     "metadata": {},
     "output_type": "execute_result"
    }
   ],
   "source": [
    "reg1 = re.compile(r'[0-9a-z]')\n",
    "reg2 = re.compile(r'[a-z0-9]')\n",
    "\n",
    "mo1 = reg1.search('100 times I am Reading  this for 100 th time')\n",
    "mo1.group()"
   ]
  },
  {
   "cell_type": "code",
   "execution_count": 14,
   "id": "2bb64b90",
   "metadata": {},
   "outputs": [
    {
     "data": {
      "text/plain": [
       "'t'"
      ]
     },
     "execution_count": 14,
     "metadata": {},
     "output_type": "execute_result"
    }
   ],
   "source": [
    "reg2 = re.compile(r'[a-z0-9]')\n",
    "\n",
    "mo1 = reg2.search('times I am Reading  this for 100 th time')\n",
    "mo1.group()"
   ]
  }
 ],
 "metadata": {
  "kernelspec": {
   "display_name": "Python 3 (ipykernel)",
   "language": "python",
   "name": "python3"
  },
  "language_info": {
   "codemirror_mode": {
    "name": "ipython",
    "version": 3
   },
   "file_extension": ".py",
   "mimetype": "text/x-python",
   "name": "python",
   "nbconvert_exporter": "python",
   "pygments_lexer": "ipython3",
   "version": "3.9.7"
  }
 },
 "nbformat": 4,
 "nbformat_minor": 5
}
