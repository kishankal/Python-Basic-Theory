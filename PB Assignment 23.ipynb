{
 "cells": [
  {
   "cell_type": "markdown",
   "id": "ca821219",
   "metadata": {},
   "source": [
    "## 1. What is the result of the code, and why?\n",
    "    >>> def func(a, b=6, c=8):\n",
    "    print(a, b, c)\n",
    "    >>> func(1, 2)"
   ]
  },
  {
   "cell_type": "code",
   "execution_count": 7,
   "id": "3e8809ec",
   "metadata": {},
   "outputs": [
    {
     "name": "stdout",
     "output_type": "stream",
     "text": [
      "1 2 8\n"
     ]
    }
   ],
   "source": [
    "def func(a,b=6,c=8):\n",
    "    print(a,b,c)\n",
    "func(1,2)"
   ]
  },
  {
   "cell_type": "markdown",
   "id": "d919f2e9",
   "metadata": {},
   "source": [
    "## reason :\n",
    "    function is accepting one position argument and 2 keyword argument\n",
    "    now when function is called that time a=1,b=2 is provided while calling but c value is not mention so c value               will be default as 8 because it's keyword argument"
   ]
  },
  {
   "cell_type": "markdown",
   "id": "88d472a6",
   "metadata": {},
   "source": [
    "## 2. What is the result of this code, and why?\n",
    "    >>> def func(a, b, c=5):\n",
    "    print(a, b, c)\n",
    "    >>> func(1, c=3, b=2)"
   ]
  },
  {
   "cell_type": "code",
   "execution_count": 8,
   "id": "ed7504b0",
   "metadata": {},
   "outputs": [
    {
     "name": "stdout",
     "output_type": "stream",
     "text": [
      "1 2 3\n"
     ]
    }
   ],
   "source": [
    "def func(a,b,c=5):\n",
    "    print(a,b,c)\n",
    "func(1,c=3,b=2)"
   ]
  },
  {
   "cell_type": "markdown",
   "id": "e6777009",
   "metadata": {},
   "source": [
    "\n",
    "## Ans. When we make function call, order will be positional argument and then keywords arguments. we can pass the keyword arguments in any order we want.\n"
   ]
  },
  {
   "cell_type": "markdown",
   "id": "f321f29b",
   "metadata": {},
   "source": [
    "## 3. How about this code: what is its result, and why?\n",
    "    >>> def func(a, *pargs):\n",
    "    print(a, pargs)\n",
    "    >>> func(1, 2, 3)"
   ]
  },
  {
   "cell_type": "code",
   "execution_count": 9,
   "id": "813f72ff",
   "metadata": {},
   "outputs": [
    {
     "name": "stdout",
     "output_type": "stream",
     "text": [
      "1 (2, 3)\n"
     ]
    }
   ],
   "source": [
    "def func(a,*pargs):\n",
    "    print(a,pargs)\n",
    "func(1,2,3)"
   ]
  },
  {
   "cell_type": "markdown",
   "id": "5af7bb9f",
   "metadata": {},
   "source": [
    "## Reason :\n",
    "the return type of *args will be always tuple"
   ]
  },
  {
   "cell_type": "markdown",
   "id": "572830f7",
   "metadata": {},
   "source": [
    "## 4. What does this code print, and why?\n",
    "    >>> def func(a, **kargs):\n",
    "    print(a, kargs)\n",
    "    >>> func(a=1, c=3, b=2)"
   ]
  },
  {
   "cell_type": "code",
   "execution_count": 11,
   "id": "c37decdc",
   "metadata": {},
   "outputs": [
    {
     "name": "stdout",
     "output_type": "stream",
     "text": [
      "1 {'c': 3, 'b': 2}\n"
     ]
    }
   ],
   "source": [
    "def func(a,**kargs):\n",
    "    print(a,kargs)\n",
    "func(a=1,c=3,b=2)"
   ]
  },
  {
   "cell_type": "markdown",
   "id": "e7a29f9c",
   "metadata": {},
   "source": [
    "## reason\n",
    "first of all keyword argument a takes value 1 and then **kargs take rest all argument as keys and value because it's return type is dictonary"
   ]
  },
  {
   "cell_type": "markdown",
   "id": "631e7201",
   "metadata": {},
   "source": [
    "## 5. What gets printed by this, and explain?\n",
    "    >>> def func(a, b, c=8, d=5): print(a, b, c, d)\n",
    "    >>> func(1, *(5, 6))"
   ]
  },
  {
   "cell_type": "code",
   "execution_count": 12,
   "id": "41546e72",
   "metadata": {},
   "outputs": [
    {
     "name": "stdout",
     "output_type": "stream",
     "text": [
      "1 5 6 5\n"
     ]
    }
   ],
   "source": [
    "def func(a,b,c=8,d=5):\n",
    "    print(a,b,c,d)\n",
    "func(1,*(5,6))"
   ]
  },
  {
   "cell_type": "markdown",
   "id": "2e56d5b3",
   "metadata": {},
   "source": [
    "The single asterisk operator * can be used on any iterable that Python provides, while the double asterisk operator ** can only be used on dictionaries. In the example the value *(5,6) will be unpacked and will be assigned to b and c and passed \n",
    "as arguments, d =5 will taken by defaults are keyword arguments."
   ]
  },
  {
   "cell_type": "markdown",
   "id": "e1dd2079",
   "metadata": {},
   "source": [
    "## 6. what is the result of this, and explain?\n",
    "    >>> def func(a, b, c): a = 2; b[0] = 'x'; c['a'] = 'y'\n",
    "    >>> l=1; m=[1]; n={'a':0}\n",
    "    >>> func(l, m, n)\n",
    "    >>> l, m, n"
   ]
  },
  {
   "cell_type": "code",
   "execution_count": 14,
   "id": "0899b7cd",
   "metadata": {},
   "outputs": [
    {
     "data": {
      "text/plain": [
       "(1, ['x'], {'a': 'y'})"
      ]
     },
     "execution_count": 14,
     "metadata": {},
     "output_type": "execute_result"
    }
   ],
   "source": [
    "def func(a,b,c):\n",
    "    a=2\n",
    "    b[0] = 'x'\n",
    "    c['a'] = 'y'\n",
    "l = 1\n",
    "m = [1]\n",
    "n = {'a':0}\n",
    "func(l,m,n)\n",
    "l,m,n"
   ]
  },
  {
   "cell_type": "markdown",
   "id": "9547e43e",
   "metadata": {},
   "source": [
    "## reason :\n",
    "    memory location of l,m,n is same as a,b,c so any change in the memory content of a,b,c will make changes in l,m,n memory content"
   ]
  }
 ],
 "metadata": {
  "kernelspec": {
   "display_name": "Python 3 (ipykernel)",
   "language": "python",
   "name": "python3"
  },
  "language_info": {
   "codemirror_mode": {
    "name": "ipython",
    "version": 3
   },
   "file_extension": ".py",
   "mimetype": "text/x-python",
   "name": "python",
   "nbconvert_exporter": "python",
   "pygments_lexer": "ipython3",
   "version": "3.9.7"
  }
 },
 "nbformat": 4,
 "nbformat_minor": 5
}
