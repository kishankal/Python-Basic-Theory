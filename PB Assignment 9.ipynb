{
 "cells": [
  {
   "cell_type": "markdown",
   "id": "3ce0ab36",
   "metadata": {},
   "source": [
    "## 1. To what does a relative path refer?\n",
    "## Answer :\n",
    "    a location that is relative to a current directory."
   ]
  },
  {
   "cell_type": "markdown",
   "id": "fe1ef394",
   "metadata": {},
   "source": [
    "## 2. What does an absolute path start with your operating system?\n",
    "## Answer :\n",
    "    absolute path contain entrie path to the directory or file which we want access.\n",
    "    it will start from home directory of system and ends with file or directory that we want to oprn\n"
   ]
  },
  {
   "cell_type": "markdown",
   "id": "ffc3a423",
   "metadata": {},
   "source": [
    "## 3. What do the functions os.getcwd() and os.chdir() do? \n",
    "## Answer :\n",
    "    os.getcwd() :\n",
    "        it will provide complete path of Current working directory  \n",
    "    os.chdir() :\n",
    "        it's used when we need to change the current working directory.\n",
    "        syntax :\n",
    "            os.chdir(path)\n",
    "    "
   ]
  },
  {
   "cell_type": "code",
   "execution_count": 1,
   "id": "9f3dc4fd",
   "metadata": {},
   "outputs": [
    {
     "data": {
      "text/plain": [
       "'C:\\\\Users\\\\kalar'"
      ]
     },
     "execution_count": 1,
     "metadata": {},
     "output_type": "execute_result"
    }
   ],
   "source": [
    "import os\n",
    "os.getcwd()"
   ]
  },
  {
   "cell_type": "markdown",
   "id": "3baf0843",
   "metadata": {},
   "source": [
    "## 4. What are the . and .. folders? \n",
    "## Answer :\n",
    "    . represents the directory you are in and .. represents the parent directory"
   ]
  },
  {
   "cell_type": "markdown",
   "id": "c1c9a252",
   "metadata": {},
   "source": [
    "## 5. In C:\\bacon\\eggs\\spam.txt, which part is the dir name, and which part is the base name?\n",
    "## Answer :\n",
    "    C:\\bacon\\eggs is the dir name, while spam.txt is the base name.\n",
    "    "
   ]
  },
  {
   "cell_type": "markdown",
   "id": "5e56a60c",
   "metadata": {},
   "source": [
    "## 6. What are the three “mode” arguments that can be passed to the open() function?\n",
    "## Answer :\n",
    "    The string 'r' for read mode, 'w' for write mode, and 'a' for append mode\n"
   ]
  },
  {
   "cell_type": "markdown",
   "id": "0da719d2",
   "metadata": {},
   "source": [
    "## 7. What happens if an existing file is opened in write mode?  \n",
    "## Answer :\n",
    "    An existing file opened in write mode is erased and completely overwritten."
   ]
  },
  {
   "cell_type": "markdown",
   "id": "ad22963f",
   "metadata": {},
   "source": [
    "## 8. How do you tell the difference between read() and readlines()?\n",
    "## Answer :\n",
    "    The read() method returns the file's entire contents as a single string value. The readlines() method returns a list of strings, where each string is a line from the file's contents."
   ]
  },
  {
   "cell_type": "markdown",
   "id": "40ad223e",
   "metadata": {},
   "source": [
    "## 9. What data structure does a shelf value resemble?\n",
    "## Answer :\n",
    "    A shelf value resembles a dictionary value; it has keys and values, along with keys() and values() methods that work similarly to the dictionary methods of the same names."
   ]
  },
  {
   "cell_type": "code",
   "execution_count": null,
   "id": "ab5deb31",
   "metadata": {},
   "outputs": [],
   "source": []
  },
  {
   "cell_type": "code",
   "execution_count": null,
   "id": "5fac2ad1",
   "metadata": {},
   "outputs": [],
   "source": []
  },
  {
   "cell_type": "code",
   "execution_count": null,
   "id": "9838641e",
   "metadata": {},
   "outputs": [],
   "source": []
  },
  {
   "cell_type": "code",
   "execution_count": null,
   "id": "ee88e072",
   "metadata": {},
   "outputs": [],
   "source": []
  },
  {
   "cell_type": "code",
   "execution_count": null,
   "id": "ed3a94cc",
   "metadata": {},
   "outputs": [],
   "source": []
  },
  {
   "cell_type": "code",
   "execution_count": null,
   "id": "eeda47b0",
   "metadata": {},
   "outputs": [],
   "source": []
  },
  {
   "cell_type": "code",
   "execution_count": null,
   "id": "f4bbbd08",
   "metadata": {},
   "outputs": [],
   "source": []
  },
  {
   "cell_type": "code",
   "execution_count": null,
   "id": "1281160d",
   "metadata": {},
   "outputs": [],
   "source": []
  },
  {
   "cell_type": "code",
   "execution_count": null,
   "id": "ea347402",
   "metadata": {},
   "outputs": [],
   "source": []
  },
  {
   "cell_type": "code",
   "execution_count": null,
   "id": "cfb53d28",
   "metadata": {},
   "outputs": [],
   "source": []
  },
  {
   "cell_type": "code",
   "execution_count": null,
   "id": "538b34d1",
   "metadata": {},
   "outputs": [],
   "source": []
  }
 ],
 "metadata": {
  "kernelspec": {
   "display_name": "Python 3 (ipykernel)",
   "language": "python",
   "name": "python3"
  },
  "language_info": {
   "codemirror_mode": {
    "name": "ipython",
    "version": 3
   },
   "file_extension": ".py",
   "mimetype": "text/x-python",
   "name": "python",
   "nbconvert_exporter": "python",
   "pygments_lexer": "ipython3",
   "version": "3.9.7"
  }
 },
 "nbformat": 4,
 "nbformat_minor": 5
}
